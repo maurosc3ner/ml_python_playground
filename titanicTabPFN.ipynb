{
 "cells": [
  {
   "cell_type": "markdown",
   "id": "0fe5fae9-5869-4b7a-b199-5b5d0e32ed43",
   "metadata": {},
   "source": [
    "# Tabular data: Play ground\n",
    "\n",
    "Goal: check different approaches from classic to more recent DL in structured datasets.\n",
    "\n",
    "Methods:\n",
    "- Logistic regression\n",
    "- Random forest\n",
    "- XGBoost\n",
    "- TabPFN\n",
    "Dataset:\n",
    "- Titanic (Kaggle)"
   ]
  },
  {
   "cell_type": "code",
   "execution_count": 1,
   "id": "61bcd2de-054b-4783-80d2-a52198138bd3",
   "metadata": {},
   "outputs": [
    {
     "name": "stdout",
     "output_type": "stream",
     "text": [
      "Requirement already satisfied: tabpfn in /opt/miniconda3/envs/dlfairness/lib/python3.12/site-packages (0.1.10)\n",
      "Requirement already satisfied: numpy>=1.21.2 in /opt/miniconda3/envs/dlfairness/lib/python3.12/site-packages (from tabpfn) (1.26.4)\n",
      "Requirement already satisfied: pyyaml>=5.4.1 in /opt/miniconda3/envs/dlfairness/lib/python3.12/site-packages (from tabpfn) (6.0.2)\n",
      "Requirement already satisfied: requests>=2.23.0 in /opt/miniconda3/envs/dlfairness/lib/python3.12/site-packages (from tabpfn) (2.32.3)\n",
      "Requirement already satisfied: scikit-learn>=0.24.2 in /opt/miniconda3/envs/dlfairness/lib/python3.12/site-packages (from tabpfn) (1.5.1)\n",
      "Requirement already satisfied: torch>=1.9.0 in /opt/miniconda3/envs/dlfairness/lib/python3.12/site-packages (from tabpfn) (2.4.0)\n",
      "Requirement already satisfied: charset-normalizer<4,>=2 in /opt/miniconda3/envs/dlfairness/lib/python3.12/site-packages (from requests>=2.23.0->tabpfn) (3.3.2)\n",
      "Requirement already satisfied: idna<4,>=2.5 in /opt/miniconda3/envs/dlfairness/lib/python3.12/site-packages (from requests>=2.23.0->tabpfn) (3.7)\n",
      "Requirement already satisfied: urllib3<3,>=1.21.1 in /opt/miniconda3/envs/dlfairness/lib/python3.12/site-packages (from requests>=2.23.0->tabpfn) (2.2.2)\n",
      "Requirement already satisfied: certifi>=2017.4.17 in /opt/miniconda3/envs/dlfairness/lib/python3.12/site-packages (from requests>=2.23.0->tabpfn) (2024.7.4)\n",
      "Requirement already satisfied: scipy>=1.6.0 in /opt/miniconda3/envs/dlfairness/lib/python3.12/site-packages (from scikit-learn>=0.24.2->tabpfn) (1.11.4)\n",
      "Requirement already satisfied: joblib>=1.2.0 in /opt/miniconda3/envs/dlfairness/lib/python3.12/site-packages (from scikit-learn>=0.24.2->tabpfn) (1.4.2)\n",
      "Requirement already satisfied: threadpoolctl>=3.1.0 in /opt/miniconda3/envs/dlfairness/lib/python3.12/site-packages (from scikit-learn>=0.24.2->tabpfn) (3.5.0)\n",
      "Requirement already satisfied: filelock in /opt/miniconda3/envs/dlfairness/lib/python3.12/site-packages (from torch>=1.9.0->tabpfn) (3.15.4)\n",
      "Requirement already satisfied: typing-extensions>=4.8.0 in /opt/miniconda3/envs/dlfairness/lib/python3.12/site-packages (from torch>=1.9.0->tabpfn) (4.12.2)\n",
      "Requirement already satisfied: sympy in /opt/miniconda3/envs/dlfairness/lib/python3.12/site-packages (from torch>=1.9.0->tabpfn) (1.13.2)\n",
      "Requirement already satisfied: networkx in /opt/miniconda3/envs/dlfairness/lib/python3.12/site-packages (from torch>=1.9.0->tabpfn) (3.3)\n",
      "Requirement already satisfied: jinja2 in /opt/miniconda3/envs/dlfairness/lib/python3.12/site-packages (from torch>=1.9.0->tabpfn) (3.1.4)\n",
      "Requirement already satisfied: fsspec in /opt/miniconda3/envs/dlfairness/lib/python3.12/site-packages (from torch>=1.9.0->tabpfn) (2024.6.1)\n",
      "Requirement already satisfied: setuptools in /opt/miniconda3/envs/dlfairness/lib/python3.12/site-packages (from torch>=1.9.0->tabpfn) (72.1.0)\n",
      "Requirement already satisfied: MarkupSafe>=2.0 in /opt/miniconda3/envs/dlfairness/lib/python3.12/site-packages (from jinja2->torch>=1.9.0->tabpfn) (2.1.5)\n",
      "Requirement already satisfied: mpmath<1.4,>=1.1.0 in /opt/miniconda3/envs/dlfairness/lib/python3.12/site-packages (from sympy->torch>=1.9.0->tabpfn) (1.3.0)\n",
      "Requirement already satisfied: pygam in /opt/miniconda3/envs/dlfairness/lib/python3.12/site-packages (0.9.1)\n",
      "Requirement already satisfied: numpy>=1.25 in /opt/miniconda3/envs/dlfairness/lib/python3.12/site-packages (from pygam) (1.26.4)\n",
      "Requirement already satisfied: progressbar2<5.0.0,>=4.2.0 in /opt/miniconda3/envs/dlfairness/lib/python3.12/site-packages (from pygam) (4.4.2)\n",
      "Requirement already satisfied: scipy<1.12,>=1.11.1 in /opt/miniconda3/envs/dlfairness/lib/python3.12/site-packages (from pygam) (1.11.4)\n",
      "Requirement already satisfied: python-utils>=3.8.1 in /opt/miniconda3/envs/dlfairness/lib/python3.12/site-packages (from progressbar2<5.0.0,>=4.2.0->pygam) (3.8.2)\n",
      "Requirement already satisfied: typing-extensions>3.10.0.2 in /opt/miniconda3/envs/dlfairness/lib/python3.12/site-packages (from python-utils>=3.8.1->progressbar2<5.0.0,>=4.2.0->pygam) (4.12.2)\n",
      "Requirement already satisfied: ppscore in /opt/miniconda3/envs/dlfairness/lib/python3.12/site-packages (1.3.0)\n",
      "Requirement already satisfied: pandas<2.0.0,>=1.0.0 in /opt/miniconda3/envs/dlfairness/lib/python3.12/site-packages (from ppscore) (1.5.3)\n",
      "Requirement already satisfied: scikit-learn<2.0.0,>=0.20.2 in /opt/miniconda3/envs/dlfairness/lib/python3.12/site-packages (from ppscore) (1.5.1)\n",
      "Requirement already satisfied: python-dateutil>=2.8.1 in /opt/miniconda3/envs/dlfairness/lib/python3.12/site-packages (from pandas<2.0.0,>=1.0.0->ppscore) (2.9.0.post0)\n",
      "Requirement already satisfied: pytz>=2020.1 in /opt/miniconda3/envs/dlfairness/lib/python3.12/site-packages (from pandas<2.0.0,>=1.0.0->ppscore) (2024.1)\n",
      "Requirement already satisfied: numpy>=1.21.0 in /opt/miniconda3/envs/dlfairness/lib/python3.12/site-packages (from pandas<2.0.0,>=1.0.0->ppscore) (1.26.4)\n",
      "Requirement already satisfied: scipy>=1.6.0 in /opt/miniconda3/envs/dlfairness/lib/python3.12/site-packages (from scikit-learn<2.0.0,>=0.20.2->ppscore) (1.11.4)\n",
      "Requirement already satisfied: joblib>=1.2.0 in /opt/miniconda3/envs/dlfairness/lib/python3.12/site-packages (from scikit-learn<2.0.0,>=0.20.2->ppscore) (1.4.2)\n",
      "Requirement already satisfied: threadpoolctl>=3.1.0 in /opt/miniconda3/envs/dlfairness/lib/python3.12/site-packages (from scikit-learn<2.0.0,>=0.20.2->ppscore) (3.5.0)\n",
      "Requirement already satisfied: six>=1.5 in /opt/miniconda3/envs/dlfairness/lib/python3.12/site-packages (from python-dateutil>=2.8.1->pandas<2.0.0,>=1.0.0->ppscore) (1.16.0)\n"
     ]
    }
   ],
   "source": [
    "!pip install tabpfn\n",
    "!pip install pygam\n",
    "!pip install ppscore"
   ]
  },
  {
   "cell_type": "code",
   "execution_count": 2,
   "id": "ef1b3b2b-896f-4a66-a6ce-4021d32095cb",
   "metadata": {},
   "outputs": [],
   "source": [
    "import numpy as np \n",
    "import pandas as pd \n",
    "from sklearn.preprocessing import StandardScaler\n",
    "from  sklearn.preprocessing import PowerTransformer\n",
    "from  sklearn.preprocessing import KBinsDiscretizer\n",
    "from sklearn.model_selection import train_test_split\n",
    "from sklearn.ensemble import RandomForestClassifier\n",
    "from tabpfn.scripts.transformer_prediction_interface import TabPFNClassifier\n",
    "from sklearn.metrics import accuracy_score\n",
    "import time  \n",
    "import matplotlib.pyplot as plt\n",
    "import seaborn as sns\n",
    "import torch\n",
    "from pygam import LinearGAM, s, f\n",
    "import ppscore as pps\n",
    "import xgboost as xgb\n",
    "%matplotlib inline"
   ]
  },
  {
   "cell_type": "code",
   "execution_count": 3,
   "id": "80b65397-d581-448e-8040-0de19730dbe3",
   "metadata": {},
   "outputs": [
    {
     "name": "stdout",
     "output_type": "stream",
     "text": [
      "<class 'pandas.core.frame.DataFrame'>\n",
      "Int64Index: 1309 entries, 0 to 417\n",
      "Data columns (total 12 columns):\n",
      " #   Column       Non-Null Count  Dtype  \n",
      "---  ------       --------------  -----  \n",
      " 0   PassengerId  1309 non-null   int64  \n",
      " 1   Survived     891 non-null    float64\n",
      " 2   Pclass       1309 non-null   int64  \n",
      " 3   Name         1309 non-null   object \n",
      " 4   Sex          1309 non-null   object \n",
      " 5   Age          1046 non-null   float64\n",
      " 6   SibSp        1309 non-null   int64  \n",
      " 7   Parch        1309 non-null   int64  \n",
      " 8   Ticket       1309 non-null   object \n",
      " 9   Fare         1308 non-null   float64\n",
      " 10  Cabin        295 non-null    object \n",
      " 11  Embarked     1307 non-null   object \n",
      "dtypes: float64(3), int64(4), object(5)\n",
      "memory usage: 132.9+ KB\n",
      "None\n"
     ]
    }
   ],
   "source": [
    "full = pd.read_csv('data/train.csv', header = 0, dtype={'Age': np.float64})\n",
    "holdout  = pd.read_csv('data/test.csv' , header = 0, dtype={'Age': np.float64})\n",
    "merged = pd.concat([full, holdout])\n",
    "\n",
    "print (merged.info())"
   ]
  },
  {
   "cell_type": "code",
   "execution_count": 4,
   "id": "ec73f330-c014-4cd6-8919-cf8ececd5d28",
   "metadata": {},
   "outputs": [
    {
     "data": {
      "text/html": [
       "<div>\n",
       "<style scoped>\n",
       "    .dataframe tbody tr th:only-of-type {\n",
       "        vertical-align: middle;\n",
       "    }\n",
       "\n",
       "    .dataframe tbody tr th {\n",
       "        vertical-align: top;\n",
       "    }\n",
       "\n",
       "    .dataframe thead th {\n",
       "        text-align: right;\n",
       "    }\n",
       "</style>\n",
       "<table border=\"1\" class=\"dataframe\">\n",
       "  <thead>\n",
       "    <tr style=\"text-align: right;\">\n",
       "      <th></th>\n",
       "      <th>Name</th>\n",
       "      <th>Sex</th>\n",
       "      <th>Ticket</th>\n",
       "      <th>Cabin</th>\n",
       "      <th>Embarked</th>\n",
       "    </tr>\n",
       "  </thead>\n",
       "  <tbody>\n",
       "    <tr>\n",
       "      <th>count</th>\n",
       "      <td>1309</td>\n",
       "      <td>1309</td>\n",
       "      <td>1309</td>\n",
       "      <td>295</td>\n",
       "      <td>1307</td>\n",
       "    </tr>\n",
       "    <tr>\n",
       "      <th>unique</th>\n",
       "      <td>1307</td>\n",
       "      <td>2</td>\n",
       "      <td>929</td>\n",
       "      <td>186</td>\n",
       "      <td>3</td>\n",
       "    </tr>\n",
       "    <tr>\n",
       "      <th>top</th>\n",
       "      <td>Connolly, Miss. Kate</td>\n",
       "      <td>male</td>\n",
       "      <td>CA. 2343</td>\n",
       "      <td>C23 C25 C27</td>\n",
       "      <td>S</td>\n",
       "    </tr>\n",
       "    <tr>\n",
       "      <th>freq</th>\n",
       "      <td>2</td>\n",
       "      <td>843</td>\n",
       "      <td>11</td>\n",
       "      <td>6</td>\n",
       "      <td>914</td>\n",
       "    </tr>\n",
       "  </tbody>\n",
       "</table>\n",
       "</div>"
      ],
      "text/plain": [
       "                        Name   Sex    Ticket        Cabin Embarked\n",
       "count                   1309  1309      1309          295     1307\n",
       "unique                  1307     2       929          186        3\n",
       "top     Connolly, Miss. Kate  male  CA. 2343  C23 C25 C27        S\n",
       "freq                       2   843        11            6      914"
      ]
     },
     "execution_count": 4,
     "metadata": {},
     "output_type": "execute_result"
    }
   ],
   "source": [
    "merged.describe(include=[object])"
   ]
  },
  {
   "cell_type": "code",
   "execution_count": 5,
   "id": "4b349d39-4065-42a5-a64c-eecc855f8cbb",
   "metadata": {},
   "outputs": [
    {
     "data": {
      "text/html": [
       "<div>\n",
       "<style scoped>\n",
       "    .dataframe tbody tr th:only-of-type {\n",
       "        vertical-align: middle;\n",
       "    }\n",
       "\n",
       "    .dataframe tbody tr th {\n",
       "        vertical-align: top;\n",
       "    }\n",
       "\n",
       "    .dataframe thead th {\n",
       "        text-align: right;\n",
       "    }\n",
       "</style>\n",
       "<table border=\"1\" class=\"dataframe\">\n",
       "  <thead>\n",
       "    <tr style=\"text-align: right;\">\n",
       "      <th></th>\n",
       "      <th>PassengerId</th>\n",
       "      <th>Survived</th>\n",
       "      <th>Pclass</th>\n",
       "      <th>Name</th>\n",
       "      <th>Sex</th>\n",
       "      <th>Age</th>\n",
       "      <th>SibSp</th>\n",
       "      <th>Parch</th>\n",
       "      <th>Ticket</th>\n",
       "      <th>Fare</th>\n",
       "      <th>Cabin</th>\n",
       "      <th>Embarked</th>\n",
       "    </tr>\n",
       "  </thead>\n",
       "  <tbody>\n",
       "    <tr>\n",
       "      <th>0</th>\n",
       "      <td>1</td>\n",
       "      <td>0.0</td>\n",
       "      <td>3</td>\n",
       "      <td>Braund, Mr. Owen Harris</td>\n",
       "      <td>male</td>\n",
       "      <td>22.0</td>\n",
       "      <td>1</td>\n",
       "      <td>0</td>\n",
       "      <td>A/5 21171</td>\n",
       "      <td>7.2500</td>\n",
       "      <td>NaN</td>\n",
       "      <td>S</td>\n",
       "    </tr>\n",
       "    <tr>\n",
       "      <th>1</th>\n",
       "      <td>2</td>\n",
       "      <td>1.0</td>\n",
       "      <td>1</td>\n",
       "      <td>Cumings, Mrs. John Bradley (Florence Briggs Th...</td>\n",
       "      <td>female</td>\n",
       "      <td>38.0</td>\n",
       "      <td>1</td>\n",
       "      <td>0</td>\n",
       "      <td>PC 17599</td>\n",
       "      <td>71.2833</td>\n",
       "      <td>C85</td>\n",
       "      <td>C</td>\n",
       "    </tr>\n",
       "    <tr>\n",
       "      <th>2</th>\n",
       "      <td>3</td>\n",
       "      <td>1.0</td>\n",
       "      <td>3</td>\n",
       "      <td>Heikkinen, Miss. Laina</td>\n",
       "      <td>female</td>\n",
       "      <td>26.0</td>\n",
       "      <td>0</td>\n",
       "      <td>0</td>\n",
       "      <td>STON/O2. 3101282</td>\n",
       "      <td>7.9250</td>\n",
       "      <td>NaN</td>\n",
       "      <td>S</td>\n",
       "    </tr>\n",
       "    <tr>\n",
       "      <th>3</th>\n",
       "      <td>4</td>\n",
       "      <td>1.0</td>\n",
       "      <td>1</td>\n",
       "      <td>Futrelle, Mrs. Jacques Heath (Lily May Peel)</td>\n",
       "      <td>female</td>\n",
       "      <td>35.0</td>\n",
       "      <td>1</td>\n",
       "      <td>0</td>\n",
       "      <td>113803</td>\n",
       "      <td>53.1000</td>\n",
       "      <td>C123</td>\n",
       "      <td>S</td>\n",
       "    </tr>\n",
       "    <tr>\n",
       "      <th>4</th>\n",
       "      <td>5</td>\n",
       "      <td>0.0</td>\n",
       "      <td>3</td>\n",
       "      <td>Allen, Mr. William Henry</td>\n",
       "      <td>male</td>\n",
       "      <td>35.0</td>\n",
       "      <td>0</td>\n",
       "      <td>0</td>\n",
       "      <td>373450</td>\n",
       "      <td>8.0500</td>\n",
       "      <td>NaN</td>\n",
       "      <td>S</td>\n",
       "    </tr>\n",
       "  </tbody>\n",
       "</table>\n",
       "</div>"
      ],
      "text/plain": [
       "   PassengerId  Survived  Pclass  \\\n",
       "0            1       0.0       3   \n",
       "1            2       1.0       1   \n",
       "2            3       1.0       3   \n",
       "3            4       1.0       1   \n",
       "4            5       0.0       3   \n",
       "\n",
       "                                                Name     Sex   Age  SibSp  \\\n",
       "0                            Braund, Mr. Owen Harris    male  22.0      1   \n",
       "1  Cumings, Mrs. John Bradley (Florence Briggs Th...  female  38.0      1   \n",
       "2                             Heikkinen, Miss. Laina  female  26.0      0   \n",
       "3       Futrelle, Mrs. Jacques Heath (Lily May Peel)  female  35.0      1   \n",
       "4                           Allen, Mr. William Henry    male  35.0      0   \n",
       "\n",
       "   Parch            Ticket     Fare Cabin Embarked  \n",
       "0      0         A/5 21171   7.2500   NaN        S  \n",
       "1      0          PC 17599  71.2833   C85        C  \n",
       "2      0  STON/O2. 3101282   7.9250   NaN        S  \n",
       "3      0            113803  53.1000  C123        S  \n",
       "4      0            373450   8.0500   NaN        S  "
      ]
     },
     "execution_count": 5,
     "metadata": {},
     "output_type": "execute_result"
    }
   ],
   "source": [
    "#merged.describe(exclude=[object])\n",
    "# survived is the label class.\n",
    "merged.head()"
   ]
  },
  {
   "cell_type": "code",
   "execution_count": 6,
   "id": "3fc9ec37-49e5-49ab-bb12-ab3b01e385ec",
   "metadata": {},
   "outputs": [
    {
     "data": {
      "text/plain": [
       "<Axes: xlabel='Sex', ylabel='Count'>"
      ]
     },
     "execution_count": 6,
     "metadata": {},
     "output_type": "execute_result"
    },
    {
     "data": {
      "image/png": "[encoded data removed]",
      "text/plain": [
       "<Figure size 640x480 with 1 Axes>"
      ]
     },
     "metadata": {},
     "output_type": "display_data"
    }
   ],
   "source": [
    "sns.histplot(data = full, x = \"Sex\")\n"
   ]
  },
  {
   "cell_type": "code",
   "execution_count": 7,
   "id": "9b068913-fc50-43b1-8197-7bce144c06be",
   "metadata": {},
   "outputs": [
    {
     "data": {
      "text/plain": [
       "Text(0.5, 1.0, 'Survival rate by Sex')"
      ]
     },
     "execution_count": 7,
     "metadata": {},
     "output_type": "execute_result"
    },
    {
     "data": {
      "image/png": "[encoded data removed]",
      "text/plain": [
       "<Figure size 640x480 with 1 Axes>"
      ]
     },
     "metadata": {},
     "output_type": "display_data"
    }
   ],
   "source": [
    "sns.barplot(data = full, x = \"Sex\", y = \"Survived\").set_title('Survival rate by Sex')\n"
   ]
  },
  {
   "cell_type": "code",
   "execution_count": 8,
   "id": "b17368e0-0b72-41e2-a341-b7ffc29db2b2",
   "metadata": {},
   "outputs": [
    {
     "data": {
      "text/plain": [
       "Text(0.5, 1.0, 'Survival rate by Pclass')"
      ]
     },
     "execution_count": 8,
     "metadata": {},
     "output_type": "execute_result"
    },
    {
     "data": {
      "image/png": "[encoded data removed]",
      "text/plain": [
       "<Figure size 640x480 with 1 Axes>"
      ]
     },
     "metadata": {},
     "output_type": "display_data"
    }
   ],
   "source": [
    "sns.barplot(data = full, x = \"Pclass\", y = \"Survived\").set_title('Survival rate by Pclass')\n"
   ]
  },
  {
   "cell_type": "code",
   "execution_count": 9,
   "id": "9d9bcb00-a7fa-4f2a-b7d8-a92b44788a93",
   "metadata": {},
   "outputs": [
    {
     "name": "stdout",
     "output_type": "stream",
     "text": [
      "<class 'pandas.core.frame.DataFrame'>\n",
      "RangeIndex: 891 entries, 0 to 890\n",
      "Data columns (total 12 columns):\n",
      " #   Column       Non-Null Count  Dtype  \n",
      "---  ------       --------------  -----  \n",
      " 0   PassengerId  891 non-null    int64  \n",
      " 1   Survived     891 non-null    int64  \n",
      " 2   Pclass       891 non-null    int64  \n",
      " 3   Name         891 non-null    object \n",
      " 4   Sex          891 non-null    object \n",
      " 5   Age          714 non-null    float64\n",
      " 6   SibSp        891 non-null    int64  \n",
      " 7   Parch        891 non-null    int64  \n",
      " 8   Ticket       891 non-null    object \n",
      " 9   Fare         891 non-null    float64\n",
      " 10  Cabin        204 non-null    object \n",
      " 11  Embarked     889 non-null    object \n",
      "dtypes: float64(2), int64(5), object(5)\n",
      "memory usage: 83.7+ KB\n",
      "None\n",
      "<class 'pandas.core.frame.DataFrame'>\n",
      "RangeIndex: 891 entries, 0 to 890\n",
      "Data columns (total 4 columns):\n",
      " #   Column  Non-Null Count  Dtype  \n",
      "---  ------  --------------  -----  \n",
      " 0   Pclass  891 non-null    float64\n",
      " 1   Sex     891 non-null    float64\n",
      " 2   SibSp   891 non-null    float64\n",
      " 3   Parch   891 non-null    float64\n",
      "dtypes: float64(4)\n",
      "memory usage: 28.0 KB\n",
      "None\n"
     ]
    }
   ],
   "source": [
    "y = full.Survived\n",
    "cols_with_missing = [col for col in merged.columns if merged[col].isnull().any()] \n",
    "X = full.copy()\n",
    "print(X.info())\n",
    "X.drop(cols_with_missing, axis=1, inplace=True)\n",
    "X.drop(['PassengerId', 'Name', 'Ticket'], axis=1, inplace=True)\n",
    "X['Sex'] = X['Sex'].map( {'female': 0, 'male': 1} ).astype(int)\n",
    "scaler = StandardScaler()\n",
    "X = pd.DataFrame(scaler.fit_transform(X), columns=X.columns)\n",
    "print(X.info())"
   ]
  },
  {
   "cell_type": "code",
   "execution_count": 10,
   "id": "8e307f56-513d-4daf-8a0d-f696db0ead26",
   "metadata": {},
   "outputs": [
    {
     "name": "stdout",
     "output_type": "stream",
     "text": [
      "<class 'pandas.core.frame.DataFrame'>\n",
      "Int64Index: 596 entries, 6 to 102\n",
      "Data columns (total 4 columns):\n",
      " #   Column  Non-Null Count  Dtype  \n",
      "---  ------  --------------  -----  \n",
      " 0   Pclass  596 non-null    float64\n",
      " 1   Sex     596 non-null    float64\n",
      " 2   SibSp   596 non-null    float64\n",
      " 3   Parch   596 non-null    float64\n",
      "dtypes: float64(4)\n",
      "memory usage: 23.3 KB\n",
      "None\n",
      "<class 'pandas.core.frame.DataFrame'>\n",
      "Int64Index: 295 entries, 709 to 173\n",
      "Data columns (total 4 columns):\n",
      " #   Column  Non-Null Count  Dtype  \n",
      "---  ------  --------------  -----  \n",
      " 0   Pclass  295 non-null    float64\n",
      " 1   Sex     295 non-null    float64\n",
      " 2   SibSp   295 non-null    float64\n",
      " 3   Parch   295 non-null    float64\n",
      "dtypes: float64(4)\n",
      "memory usage: 11.5 KB\n",
      "None\n"
     ]
    }
   ],
   "source": [
    "x_train, x_val, y_train, y_val = train_test_split(X, y, test_size=0.33, random_state=42)\n",
    "print (x_train.info())\n",
    "print (x_val.info())"
   ]
  },
  {
   "cell_type": "markdown",
   "id": "83a261f8-2090-4730-b1c7-9ecfd268ea9c",
   "metadata": {},
   "source": [
    "## Logistic regression"
   ]
  },
  {
   "cell_type": "code",
   "execution_count": 43,
   "id": "b9c194fa-e1a7-4d22-92c0-2ed28b50b450",
   "metadata": {},
   "outputs": [],
   "source": [
    "from sklearn.metrics import accuracy_score, classification_report, precision_score, recall_score \n",
    "from sklearn.metrics import confusion_matrix, precision_recall_curve, roc_curve, auc, log_loss\n",
    "from sklearn.linear_model import LogisticRegression"
   ]
  },
  {
   "cell_type": "code",
   "execution_count": 45,
   "id": "a2d0b9aa-7d9d-4dba-ae10-2f18d6b9d75d",
   "metadata": {},
   "outputs": [
    {
     "name": "stdout",
     "output_type": "stream",
     "text": [
      "Train/Test split results:\n",
      "LogisticRegression accuracy is 0.810\n",
      "LogisticRegression log_loss is 0.437\n",
      "LogisticRegression auc is 0.862\n"
     ]
    },
    {
     "name": "stderr",
     "output_type": "stream",
     "text": [
      "/var/folders/p2/kkyd0gbx0s5_9mbwn8jt2msc0000gq/T/ipykernel_40219/1680362613.py:17: UserWarning: color is redundantly defined by the 'color' keyword argument and the fmt string \"k--\" (-> color='k'). The keyword argument will take precedence.\n",
      "  plt.plot([0,fpr[idx]], [tpr[idx],tpr[idx]], 'k--', color='blue')\n",
      "/var/folders/p2/kkyd0gbx0s5_9mbwn8jt2msc0000gq/T/ipykernel_40219/1680362613.py:18: UserWarning: color is redundantly defined by the 'color' keyword argument and the fmt string \"k--\" (-> color='k'). The keyword argument will take precedence.\n",
      "  plt.plot([fpr[idx],fpr[idx]], [0,tpr[idx]], 'k--', color='blue')\n"
     ]
    },
    {
     "data": {
      "image/png": "[encoded data removed]",
      "text/plain": [
       "<Figure size 640x480 with 1 Axes>"
      ]
     },
     "metadata": {},
     "output_type": "display_data"
    },
    {
     "name": "stdout",
     "output_type": "stream",
     "text": [
      "Using a threshold of 0.121 guarantees a sensitivity of 0.967 and a specificity of 0.109, i.e. a false positive rate of 89.14%.\n"
     ]
    }
   ],
   "source": [
    "# check classification scores of logistic regression\n",
    "logreg = LogisticRegression()\n",
    "logreg.fit(x_train, y_train)\n",
    "y_pred = logreg.predict(x_val)\n",
    "y_pred_proba = logreg.predict_proba(x_val)[:, 1]\n",
    "[fpr, tpr, thr] = roc_curve(y_val, y_pred_proba)\n",
    "print('Train/Test split results:')\n",
    "print(logreg.__class__.__name__+\" accuracy is %2.3f\" % accuracy_score(y_val, y_pred))\n",
    "print(logreg.__class__.__name__+\" log_loss is %2.3f\" % log_loss(y_val, y_pred_proba))\n",
    "print(logreg.__class__.__name__+\" auc is %2.3f\" % auc(fpr, tpr))\n",
    "\n",
    "idx = np.min(np.where(tpr > 0.95)) # index of the first threshold for which the sensibility > 0.95\n",
    "\n",
    "plt.figure()\n",
    "plt.plot(fpr, tpr, color='coral', label='ROC curve (area = %0.3f)' % auc(fpr, tpr))\n",
    "plt.plot([0, 1], [0, 1], 'k--')\n",
    "plt.plot([0,fpr[idx]], [tpr[idx],tpr[idx]], 'k--', color='blue')\n",
    "plt.plot([fpr[idx],fpr[idx]], [0,tpr[idx]], 'k--', color='blue')\n",
    "plt.xlim([0.0, 1.0])\n",
    "plt.ylim([0.0, 1.05])\n",
    "plt.xlabel('False Positive Rate (1 - specificity)', fontsize=14)\n",
    "plt.ylabel('True Positive Rate (recall)', fontsize=14)\n",
    "plt.title('Receiver operating characteristic (ROC) curve')\n",
    "plt.legend(loc=\"lower right\")\n",
    "plt.show()\n",
    "\n",
    "print(\"Using a threshold of %.3f \" % thr[idx] + \"guarantees a sensitivity of %.3f \" % tpr[idx] +  \n",
    "      \"and a specificity of %.3f\" % (1-fpr[idx]) + \n",
    "      \", i.e. a false positive rate of %.2f%%.\" % (np.array(fpr[idx])*100))"
   ]
  },
  {
   "cell_type": "markdown",
   "id": "aa5259e2-9b8a-4d7f-bd38-98a8ceff89df",
   "metadata": {},
   "source": [
    "## Random forest"
   ]
  },
  {
   "cell_type": "code",
   "execution_count": 11,
   "id": "969062ef-c9cb-4205-88f1-065b0209fbf6",
   "metadata": {},
   "outputs": [
    {
     "name": "stdout",
     "output_type": "stream",
     "text": [
      "RandomForestClassifier validation accuracy 0.8135593220338984\n",
      "Execution time:  0.049482107162475586 secs\n",
      "Prediction time: 0.002192258834838867 secs\n"
     ]
    }
   ],
   "source": [
    "start_time = time.time()\n",
    "model_rf = RandomForestClassifier(n_estimators = 100,max_depth=3)\n",
    "model_rf = model_rf.fit(x_train, y_train)\n",
    "start_pred_time = time.time()\n",
    "predictions = model_rf.predict(x_val)\n",
    "end_pred_time = time.time()\n",
    "rf_val_acc = accuracy_score(y_val, predictions)\n",
    "print('RandomForestClassifier validation accuracy', rf_val_acc)\n",
    "\n",
    "end_time = time.time()\n",
    "print(\"Execution time: \", end_time - start_time, \"secs\")\n",
    "print(\"Prediction time:\", end_pred_time - start_pred_time, \"secs\")"
   ]
  },
  {
   "cell_type": "markdown",
   "id": "f563c5af-34b1-4057-a21a-409a63930a76",
   "metadata": {},
   "source": [
    "## XGBoost"
   ]
  },
  {
   "cell_type": "code",
   "execution_count": 23,
   "id": "9282ca6f-aafd-4bf3-8bfd-11b6130a3854",
   "metadata": {},
   "outputs": [
    {
     "data": {
      "text/plain": [
       "1.6846846846846846"
      ]
     },
     "execution_count": 23,
     "metadata": {},
     "output_type": "execute_result"
    }
   ],
   "source": [
    "x_train_xgb=x_train.values\n",
    "x_val_xgb=x_val.values\n",
    "y_train_xgb=y_train.values\n",
    "y_val_xgb=y_val.values\n",
    "negative_cases = sum(y_train == 0)\n",
    "postive_cases = sum(y_train == 1)\n",
    "negative_cases/postive_cases"
   ]
  },
  {
   "cell_type": "code",
   "execution_count": 24,
   "id": "9da9c454-ca19-4474-b793-d5018fc519d0",
   "metadata": {},
   "outputs": [
    {
     "name": "stdout",
     "output_type": "stream",
     "text": [
      "[[150  25]\n",
      " [ 31  89]]\n",
      "XGBoost validation accuracy 0.8101694915254237\n",
      "Execution time:  0.04413795471191406 secs\n",
      "Prediction time: 0.002192258834838867 secs\n"
     ]
    }
   ],
   "source": [
    "start_time = time.time()\n",
    "model_xgb = xgb.XGBClassifier(n_estimators=1000, learning_rate=0.05,early_stopping_rounds=10,objective = \"binary:logistic\",\n",
    "                             scale_pos_weight=negative_cases/postive_cases)\n",
    "# Add silent=True to avoid printing out updates with each cycle\n",
    "model_xgb.fit(x_train_xgb, y_train_xgb, verbose=False,\n",
    "             eval_set=[(x_val_xgb, y_val_xgb)])\n",
    "from sklearn.metrics import confusion_matrix, mean_squared_error\n",
    "predictions = model_xgb.predict(x_val_xgb)\n",
    "print(confusion_matrix(y_val_xgb, predictions))\n",
    "print('XGBoost validation accuracy', accuracy_score(y_val_xgb, predictions))\n",
    "\n",
    "end_time = time.time()\n",
    "print(\"Execution time: \", end_time - start_time, \"secs\")\n",
    "print(\"Prediction time:\", end_pred_time - start_pred_time, \"secs\")"
   ]
  },
  {
   "cell_type": "code",
   "execution_count": 38,
   "id": "151a6fcc-91a0-41af-96bc-8a79b3653688",
   "metadata": {},
   "outputs": [
    {
     "name": "stdout",
     "output_type": "stream",
     "text": [
      "Parameter optimization\n",
      "Fitting 3 folds for each of 108 candidates, totalling 324 fits\n",
      "0.38752055168151855\n",
      "{'learning_rate': 0.1, 'max_depth': 2, 'n_estimators': 100, 'scale_pos_weight': 1}\n"
     ]
    }
   ],
   "source": [
    "from sklearn.model_selection import GridSearchCV\n",
    "\n",
    "print(\"Parameter optimization\")\n",
    "xgb_model2 = xgb.XGBRegressor(n_jobs=1)\n",
    "clf = GridSearchCV(\n",
    "    xgb_model2,\n",
    "    {\"learning_rate\":[0.01,0.05,0.1],\n",
    "     \"max_depth\": [2, 3,4],\n",
    "     \"n_estimators\": [50, 100,1000],\n",
    "     \"scale_pos_weight\":[1,1.3,1.6846846846846846,2]},\n",
    "    verbose=1,\n",
    "    n_jobs=1,\n",
    "    cv=3,\n",
    ")\n",
    "clf.fit(x_train_xgb, y_train_xgb, verbose=False,\n",
    "             eval_set=[(x_val_xgb, y_val_xgb)])\n",
    "print(clf.best_score_)\n",
    "print(clf.best_params_)\n",
    "\n"
   ]
  },
  {
   "cell_type": "code",
   "execution_count": 28,
   "id": "6fc80f16-dbb4-40ca-abad-5b6054408bd5",
   "metadata": {},
   "outputs": [
    {
     "name": "stdout",
     "output_type": "stream",
     "text": [
      "[[150  25]\n",
      " [ 31  89]]\n",
      "XGBoost validation accuracy 0.8101694915254237\n",
      "Execution time:  0.057650089263916016 secs\n",
      "Prediction time: 0.002192258834838867 secs\n"
     ]
    }
   ],
   "source": [
    "start_time = time.time()\n",
    "model_xgb = xgb.XGBClassifier(n_estimators=100, learning_rate=0.1,\n",
    "                              early_stopping_rounds=10,\n",
    "                              objective = \"binary:logistic\",\n",
    "                              scale_pos_weight=negative_cases/postive_cases)\n",
    "# Add silent=True to avoid printing out updates with each cycle\n",
    "model_xgb.fit(x_train_xgb, y_train_xgb, verbose=False,\n",
    "             eval_set=[(x_val_xgb, y_val_xgb)])\n",
    "from sklearn.metrics import confusion_matrix, mean_squared_error\n",
    "predictions = model_xgb.predict(x_val_xgb)\n",
    "print(confusion_matrix(y_val_xgb, predictions))\n",
    "print('XGBoost validation accuracy', accuracy_score(y_val_xgb, predictions))\n",
    "end_time = time.time()\n",
    "print(\"Execution time: \", end_time - start_time, \"secs\")\n",
    "print(\"Prediction time:\", end_pred_time - start_pred_time, \"secs\")"
   ]
  },
  {
   "cell_type": "markdown",
   "id": "3af1a81e-89e8-44ea-bda3-d9b3292b6d05",
   "metadata": {},
   "source": [
    "## DL: TapFPN"
   ]
  },
  {
   "cell_type": "code",
   "execution_count": 33,
   "id": "549d7248-d5bd-4271-b47a-3bb8012a22df",
   "metadata": {},
   "outputs": [
    {
     "name": "stderr",
     "output_type": "stream",
     "text": [
      "/opt/miniconda3/envs/dlfairness/lib/python3.12/pty.py:95: DeprecationWarning: This process (pid=40219) is multi-threaded, use of forkpty() may lead to deadlocks in the child.\n",
      "  pid, fd = os.forkpty()\n"
     ]
    },
    {
     "name": "stdout",
     "output_type": "stream",
     "text": [
      "Collecting tensorflow\n",
      "  Downloading tensorflow-2.17.0-cp312-cp312-macosx_12_0_arm64.whl.metadata (4.1 kB)\n",
      "Collecting absl-py>=1.0.0 (from tensorflow)\n",
      "  Downloading absl_py-2.1.0-py3-none-any.whl.metadata (2.3 kB)\n",
      "Collecting astunparse>=1.6.0 (from tensorflow)\n",
      "  Downloading astunparse-1.6.3-py2.py3-none-any.whl.metadata (4.4 kB)\n",
      "Collecting flatbuffers>=24.3.25 (from tensorflow)\n",
      "  Downloading flatbuffers-24.3.25-py2.py3-none-any.whl.metadata (850 bytes)\n",
      "Collecting gast!=0.5.0,!=0.5.1,!=0.5.2,>=0.2.1 (from tensorflow)\n",
      "  Downloading gast-0.6.0-py3-none-any.whl.metadata (1.3 kB)\n",
      "Collecting google-pasta>=0.1.1 (from tensorflow)\n",
      "  Downloading google_pasta-0.2.0-py3-none-any.whl.metadata (814 bytes)\n",
      "Collecting h5py>=3.10.0 (from tensorflow)\n",
      "  Downloading h5py-3.11.0-cp312-cp312-macosx_11_0_arm64.whl.metadata (2.5 kB)\n",
      "Collecting libclang>=13.0.0 (from tensorflow)\n",
      "  Downloading libclang-18.1.1-1-py2.py3-none-macosx_11_0_arm64.whl.metadata (5.2 kB)\n",
      "Collecting ml-dtypes<0.5.0,>=0.3.1 (from tensorflow)\n",
      "  Downloading ml_dtypes-0.4.0-cp312-cp312-macosx_10_9_universal2.whl.metadata (20 kB)\n",
      "Collecting opt-einsum>=2.3.2 (from tensorflow)\n",
      "  Downloading opt_einsum-3.3.0-py3-none-any.whl.metadata (6.5 kB)\n",
      "Requirement already satisfied: packaging in /opt/miniconda3/envs/dlfairness/lib/python3.12/site-packages (from tensorflow) (24.1)\n",
      "Collecting protobuf!=4.21.0,!=4.21.1,!=4.21.2,!=4.21.3,!=4.21.4,!=4.21.5,<5.0.0dev,>=3.20.3 (from tensorflow)\n",
      "  Downloading protobuf-4.25.4-cp37-abi3-macosx_10_9_universal2.whl.metadata (541 bytes)\n",
      "Requirement already satisfied: requests<3,>=2.21.0 in /opt/miniconda3/envs/dlfairness/lib/python3.12/site-packages (from tensorflow) (2.32.3)\n",
      "Requirement already satisfied: setuptools in /opt/miniconda3/envs/dlfairness/lib/python3.12/site-packages (from tensorflow) (72.1.0)\n",
      "Requirement already satisfied: six>=1.12.0 in /opt/miniconda3/envs/dlfairness/lib/python3.12/site-packages (from tensorflow) (1.16.0)\n",
      "Collecting termcolor>=1.1.0 (from tensorflow)\n",
      "  Downloading termcolor-2.4.0-py3-none-any.whl.metadata (6.1 kB)\n",
      "Requirement already satisfied: typing-extensions>=3.6.6 in /opt/miniconda3/envs/dlfairness/lib/python3.12/site-packages (from tensorflow) (4.12.2)\n",
      "Collecting wrapt>=1.11.0 (from tensorflow)\n",
      "  Downloading wrapt-1.16.0-cp312-cp312-macosx_11_0_arm64.whl.metadata (6.6 kB)\n",
      "Collecting grpcio<2.0,>=1.24.3 (from tensorflow)\n",
      "  Downloading grpcio-1.65.4-cp312-cp312-macosx_10_9_universal2.whl.metadata (3.3 kB)\n",
      "Collecting tensorboard<2.18,>=2.17 (from tensorflow)\n",
      "  Downloading tensorboard-2.17.0-py3-none-any.whl.metadata (1.6 kB)\n",
      "Collecting keras>=3.2.0 (from tensorflow)\n",
      "  Downloading keras-3.4.1-py3-none-any.whl.metadata (5.8 kB)\n",
      "Requirement already satisfied: numpy<2.0.0,>=1.26.0 in /opt/miniconda3/envs/dlfairness/lib/python3.12/site-packages (from tensorflow) (1.26.4)\n",
      "Requirement already satisfied: wheel<1.0,>=0.23.0 in /opt/miniconda3/envs/dlfairness/lib/python3.12/site-packages (from astunparse>=1.6.0->tensorflow) (0.43.0)\n",
      "Collecting rich (from keras>=3.2.0->tensorflow)\n",
      "  Downloading rich-13.7.1-py3-none-any.whl.metadata (18 kB)\n",
      "Collecting namex (from keras>=3.2.0->tensorflow)\n",
      "  Downloading namex-0.0.8-py3-none-any.whl.metadata (246 bytes)\n",
      "Collecting optree (from keras>=3.2.0->tensorflow)\n",
      "  Downloading optree-0.12.1-cp312-cp312-macosx_11_0_arm64.whl.metadata (47 kB)\n",
      "\u001b[2K     \u001b[90m━━━━━━━━━━━━━━━━━━━━━━━━━━━━━━━━━━━━━━━━\u001b[0m \u001b[32m47.8/47.8 kB\u001b[0m \u001b[31m1.6 MB/s\u001b[0m eta \u001b[36m0:00:00\u001b[0m\n",
      "\u001b[?25hRequirement already satisfied: charset-normalizer<4,>=2 in /opt/miniconda3/envs/dlfairness/lib/python3.12/site-packages (from requests<3,>=2.21.0->tensorflow) (3.3.2)\n",
      "Requirement already satisfied: idna<4,>=2.5 in /opt/miniconda3/envs/dlfairness/lib/python3.12/site-packages (from requests<3,>=2.21.0->tensorflow) (3.7)\n",
      "Requirement already satisfied: urllib3<3,>=1.21.1 in /opt/miniconda3/envs/dlfairness/lib/python3.12/site-packages (from requests<3,>=2.21.0->tensorflow) (2.2.2)\n",
      "Requirement already satisfied: certifi>=2017.4.17 in /opt/miniconda3/envs/dlfairness/lib/python3.12/site-packages (from requests<3,>=2.21.0->tensorflow) (2024.7.4)\n",
      "Collecting markdown>=2.6.8 (from tensorboard<2.18,>=2.17->tensorflow)\n",
      "  Downloading Markdown-3.6-py3-none-any.whl.metadata (7.0 kB)\n",
      "Collecting tensorboard-data-server<0.8.0,>=0.7.0 (from tensorboard<2.18,>=2.17->tensorflow)\n",
      "  Downloading tensorboard_data_server-0.7.2-py3-none-any.whl.metadata (1.1 kB)\n",
      "Collecting werkzeug>=1.0.1 (from tensorboard<2.18,>=2.17->tensorflow)\n",
      "  Downloading werkzeug-3.0.3-py3-none-any.whl.metadata (3.7 kB)\n",
      "Requirement already satisfied: MarkupSafe>=2.1.1 in /opt/miniconda3/envs/dlfairness/lib/python3.12/site-packages (from werkzeug>=1.0.1->tensorboard<2.18,>=2.17->tensorflow) (2.1.5)\n",
      "Collecting markdown-it-py>=2.2.0 (from rich->keras>=3.2.0->tensorflow)\n",
      "  Downloading markdown_it_py-3.0.0-py3-none-any.whl.metadata (6.9 kB)\n",
      "Requirement already satisfied: pygments<3.0.0,>=2.13.0 in /opt/miniconda3/envs/dlfairness/lib/python3.12/site-packages (from rich->keras>=3.2.0->tensorflow) (2.18.0)\n",
      "Collecting mdurl~=0.1 (from markdown-it-py>=2.2.0->rich->keras>=3.2.0->tensorflow)\n",
      "  Downloading mdurl-0.1.2-py3-none-any.whl.metadata (1.6 kB)\n",
      "Downloading tensorflow-2.17.0-cp312-cp312-macosx_12_0_arm64.whl (236.3 MB)\n",
      "\u001b[2K   \u001b[90m━━━━━━━━━━━━━━━━━━━━━━━━━━━━━━━━━━━━━━━━\u001b[0m \u001b[32m236.3/236.3 MB\u001b[0m \u001b[31m10.9 MB/s\u001b[0m eta \u001b[36m0:00:00\u001b[0m00:01\u001b[0m00:01\u001b[0m\n",
      "\u001b[?25hDownloading absl_py-2.1.0-py3-none-any.whl (133 kB)\n",
      "\u001b[2K   \u001b[90m━━━━━━━━━━━━━━━━━━━━━━━━━━━━━━━━━━━━━━━━\u001b[0m \u001b[32m133.7/133.7 kB\u001b[0m \u001b[31m6.4 MB/s\u001b[0m eta \u001b[36m0:00:00\u001b[0m\n",
      "\u001b[?25hDownloading astunparse-1.6.3-py2.py3-none-any.whl (12 kB)\n",
      "Downloading flatbuffers-24.3.25-py2.py3-none-any.whl (26 kB)\n",
      "Downloading gast-0.6.0-py3-none-any.whl (21 kB)\n",
      "Downloading google_pasta-0.2.0-py3-none-any.whl (57 kB)\n",
      "\u001b[2K   \u001b[90m━━━━━━━━━━━━━━━━━━━━━━━━━━━━━━━━━━━━━━━━\u001b[0m \u001b[32m57.5/57.5 kB\u001b[0m \u001b[31m1.1 MB/s\u001b[0m eta \u001b[36m0:00:00\u001b[0mta \u001b[36m0:00:01\u001b[0m\n",
      "\u001b[?25hDownloading grpcio-1.65.4-cp312-cp312-macosx_10_9_universal2.whl (10.4 MB)\n",
      "\u001b[2K   \u001b[90m━━━━━━━━━━━━━━━━━━━━━━━━━━━━━━━━━━━━━━━━\u001b[0m \u001b[32m10.4/10.4 MB\u001b[0m \u001b[31m13.9 MB/s\u001b[0m eta \u001b[36m0:00:00\u001b[0m00:01\u001b[0m0:01\u001b[0m\n",
      "\u001b[?25hDownloading h5py-3.11.0-cp312-cp312-macosx_11_0_arm64.whl (2.9 MB)\n",
      "\u001b[2K   \u001b[90m━━━━━━━━━━━━━━━━━━━━━━━━━━━━━━━━━━━━━━━━\u001b[0m \u001b[32m2.9/2.9 MB\u001b[0m \u001b[31m5.7 MB/s\u001b[0m eta \u001b[36m0:00:00\u001b[0m:00:01\u001b[0m00:01\u001b[0m\n",
      "\u001b[?25hDownloading keras-3.4.1-py3-none-any.whl (1.1 MB)\n",
      "\u001b[2K   \u001b[90m━━━━━━━━━━━━━━━━━━━━━━━━━━━━━━━━━━━━━━━━\u001b[0m \u001b[32m1.1/1.1 MB\u001b[0m \u001b[31m12.3 MB/s\u001b[0m eta \u001b[36m0:00:00\u001b[0m00:01\u001b[0m00:01\u001b[0m\n",
      "\u001b[?25hDownloading libclang-18.1.1-1-py2.py3-none-macosx_11_0_arm64.whl (25.8 MB)\n",
      "\u001b[2K   \u001b[90m━━━━━━━━━━━━━━━━━━━━━━━━━━━━━━━━━━━━━━━━\u001b[0m \u001b[32m25.8/25.8 MB\u001b[0m \u001b[31m15.9 MB/s\u001b[0m eta \u001b[36m0:00:00\u001b[0m00:01\u001b[0m00:01\u001b[0m\n",
      "\u001b[?25hDownloading ml_dtypes-0.4.0-cp312-cp312-macosx_10_9_universal2.whl (394 kB)\n",
      "\u001b[2K   \u001b[90m━━━━━━━━━━━━━━━━━━━━━━━━━━━━━━━━━━━━━━━━\u001b[0m \u001b[32m394.4/394.4 kB\u001b[0m \u001b[31m10.5 MB/s\u001b[0m eta \u001b[36m0:00:00\u001b[0m00:01\u001b[0m\n",
      "\u001b[?25hDownloading opt_einsum-3.3.0-py3-none-any.whl (65 kB)\n",
      "\u001b[2K   \u001b[90m━━━━━━━━━━━━━━━━━━━━━━━━━━━━━━━━━━━━━━━━\u001b[0m \u001b[32m65.5/65.5 kB\u001b[0m \u001b[31m5.0 MB/s\u001b[0m eta \u001b[36m0:00:00\u001b[0m\n",
      "\u001b[?25hDownloading protobuf-4.25.4-cp37-abi3-macosx_10_9_universal2.whl (394 kB)\n",
      "\u001b[2K   \u001b[90m━━━━━━━━━━━━━━━━━━━━━━━━━━━━━━━━━━━━━━━━\u001b[0m \u001b[32m394.2/394.2 kB\u001b[0m \u001b[31m5.3 MB/s\u001b[0m eta \u001b[36m0:00:00\u001b[0m:00:01\u001b[0m\n",
      "\u001b[?25hDownloading tensorboard-2.17.0-py3-none-any.whl (5.5 MB)\n",
      "\u001b[2K   \u001b[90m━━━━━━━━━━━━━━━━━━━━━━━━━━━━━━━━━━━━━━━━\u001b[0m \u001b[32m5.5/5.5 MB\u001b[0m \u001b[31m16.4 MB/s\u001b[0m eta \u001b[36m0:00:00\u001b[0m00:01\u001b[0m00:01\u001b[0m\n",
      "\u001b[?25hDownloading termcolor-2.4.0-py3-none-any.whl (7.7 kB)\n",
      "Downloading wrapt-1.16.0-cp312-cp312-macosx_11_0_arm64.whl (38 kB)\n",
      "Downloading Markdown-3.6-py3-none-any.whl (105 kB)\n",
      "\u001b[2K   \u001b[90m━━━━━━━━━━━━━━━━━━━━━━━━━━━━━━━━━━━━━━━━\u001b[0m \u001b[32m105.4/105.4 kB\u001b[0m \u001b[31m3.8 MB/s\u001b[0m eta \u001b[36m0:00:00\u001b[0m\n",
      "\u001b[?25hDownloading tensorboard_data_server-0.7.2-py3-none-any.whl (2.4 kB)\n",
      "Downloading werkzeug-3.0.3-py3-none-any.whl (227 kB)\n",
      "\u001b[2K   \u001b[90m━━━━━━━━━━━━━━━━━━━━━━━━━━━━━━━━━━━━━━━━\u001b[0m \u001b[32m227.3/227.3 kB\u001b[0m \u001b[31m8.6 MB/s\u001b[0m eta \u001b[36m0:00:00\u001b[0m\n",
      "\u001b[?25hDownloading namex-0.0.8-py3-none-any.whl (5.8 kB)\n",
      "Downloading optree-0.12.1-cp312-cp312-macosx_11_0_arm64.whl (284 kB)\n",
      "\u001b[2K   \u001b[90m━━━━━━━━━━━━━━━━━━━━━━━━━━━━━━━━━━━━━━━━\u001b[0m \u001b[32m284.9/284.9 kB\u001b[0m \u001b[31m7.8 MB/s\u001b[0m eta \u001b[36m0:00:00\u001b[0m\n",
      "\u001b[?25hDownloading rich-13.7.1-py3-none-any.whl (240 kB)\n",
      "\u001b[2K   \u001b[90m━━━━━━━━━━━━━━━━━━━━━━━━━━━━━━━━━━━━━━━━\u001b[0m \u001b[32m240.7/240.7 kB\u001b[0m \u001b[31m8.2 MB/s\u001b[0m eta \u001b[36m0:00:00\u001b[0m\n",
      "\u001b[?25hDownloading markdown_it_py-3.0.0-py3-none-any.whl (87 kB)\n",
      "\u001b[2K   \u001b[90m━━━━━━━━━━━━━━━━━━━━━━━━━━━━━━━━━━━━━━━━\u001b[0m \u001b[32m87.5/87.5 kB\u001b[0m \u001b[31m4.2 MB/s\u001b[0m eta \u001b[36m0:00:00\u001b[0m\n",
      "\u001b[?25hDownloading mdurl-0.1.2-py3-none-any.whl (10.0 kB)\n",
      "Installing collected packages: namex, libclang, flatbuffers, wrapt, werkzeug, termcolor, tensorboard-data-server, protobuf, optree, opt-einsum, ml-dtypes, mdurl, markdown, h5py, grpcio, google-pasta, gast, astunparse, absl-py, tensorboard, markdown-it-py, rich, keras, tensorflow\n",
      "Successfully installed absl-py-2.1.0 astunparse-1.6.3 flatbuffers-24.3.25 gast-0.6.0 google-pasta-0.2.0 grpcio-1.65.4 h5py-3.11.0 keras-3.4.1 libclang-18.1.1 markdown-3.6 markdown-it-py-3.0.0 mdurl-0.1.2 ml-dtypes-0.4.0 namex-0.0.8 opt-einsum-3.3.0 optree-0.12.1 protobuf-4.25.4 rich-13.7.1 tensorboard-2.17.0 tensorboard-data-server-0.7.2 tensorflow-2.17.0 termcolor-2.4.0 werkzeug-3.0.3 wrapt-1.16.0\n"
     ]
    }
   ],
   "source": [
    "!pip install tensorflow"
   ]
  },
  {
   "cell_type": "code",
   "execution_count": 46,
   "id": "5dc891f8-673a-4a0b-8229-75b30cd68895",
   "metadata": {},
   "outputs": [
    {
     "data": {
      "text/plain": [
       "<tensorflow.python.eager.context._EagerDeviceContext at 0x3541a4180>"
      ]
     },
     "execution_count": 46,
     "metadata": {},
     "output_type": "execute_result"
    }
   ],
   "source": [
    "import tensorflow as tf\n",
    "tf.test.gpu_device_name()\n",
    "# make use of apple silicon\n",
    "tf.device(\"/gpu:0\")"
   ]
  },
  {
   "cell_type": "code",
   "execution_count": 36,
   "id": "42c79430-cf5d-4f8a-8990-fdb19388f2f3",
   "metadata": {},
   "outputs": [
    {
     "name": "stderr",
     "output_type": "stream",
     "text": [
      "/opt/miniconda3/envs/dlfairness/lib/python3.12/site-packages/tabpfn/scripts/model_builder.py:46: FutureWarning: You are using `torch.load` with `weights_only=False` (the current default value), which uses the default pickle module implicitly. It is possible to construct malicious pickle data which will execute arbitrary code during unpickling (See https://github.com/pytorch/pytorch/blob/main/SECURITY.md#untrusted-models for more details). In a future release, the default value for `weights_only` will be flipped to `True`. This limits the functions that could be executed during unpickling. Arbitrary objects will no longer be allowed to be loaded via this mode unless they are explicitly allowlisted by the user via `torch.serialization.add_safe_globals`. We recommend you start setting `weights_only=True` for any use case where you don't have full control of the loaded file. Please open an issue on GitHub for any issues related to this experimental feature.\n",
      "  model_state, optimizer_state, config_sample = torch.load(os.path.join(path, filename), map_location='cpu')\n"
     ]
    },
    {
     "name": "stdout",
     "output_type": "stream",
     "text": [
      "Multiple models in memory. This might lead to memory issues. Consider calling remove_models_from_memory()\n"
     ]
    },
    {
     "name": "stderr",
     "output_type": "stream",
     "text": [
      "/opt/miniconda3/envs/dlfairness/lib/python3.12/site-packages/torch/_dynamo/eval_frame.py:600: UserWarning: torch.utils.checkpoint: the use_reentrant parameter should be passed explicitly. In version 2.4 we will raise an exception if use_reentrant is not passed. use_reentrant=False is recommended, but if you need to preserve the current default behavior, you can pass use_reentrant=True. Refer to docs for more details on the differences between the two variants.\n",
      "  return fn(*args, **kwargs)\n"
     ]
    },
    {
     "name": "stdout",
     "output_type": "stream",
     "text": [
      "\n",
      "TabPFNClassifier validation accuracy 0.8067796610169492\n",
      "Execution time:  0.7615768909454346 secs\n",
      "Prediction time: 0.47664403915405273 secs\n"
     ]
    }
   ],
   "source": [
    "start_time = time.time()\n",
    "model_dl = TabPFNClassifier(device=\"/gpu:0\",N_ensemble_configurations=32)\n",
    "model_dl = model.fit(x_train, y_train)\n",
    "start_pred_time = time.time()\n",
    "predictions = model_dl.predict(x_val.to_numpy())\n",
    "end_pred_time = time.time()\n",
    "tpfn_val_acc = accuracy_score(y_val, predictions)\n",
    "print()\n",
    "print('TabPFNClassifier validation accuracy', tpfn_val_acc)\n",
    "\n",
    "end_time = time.time()\n",
    "print(\"Execution time: \", end_time - start_time, \"secs\")\n",
    "print(\"Prediction time:\", end_pred_time - start_pred_time, \"secs\")"
   ]
  },
  {
   "cell_type": "markdown",
   "id": "f17defac-4647-421c-9c41-37245ae1b1d8",
   "metadata": {},
   "source": [
    "## Conclusions\n",
    "\n",
    "Very similar results for all three classifiers. It might be well suited to test on the AoU dataset and more evident imbalanced datasets."
   ]
  },
  {
   "cell_type": "markdown",
   "id": "ab940ca2-500d-497a-a905-7f0dc677c76a",
   "metadata": {},
   "source": [
    "## References\n",
    "\n",
    "[1] Léo Grinsztajn, Edouard Oyallon, Gaël Varoquaux. Why do tree-based models still outperform deep learning on tabular data? https://arxiv.org/abs/2207.08815\n",
    "\n",
    "[2] Noah Hollmann, Samuel Müller, Katharina Eggensperger, Frank Hutter. TabPFN: A Transformer That Solves Small Tabular Classification Problems in a Second. ICLR 2023. https://arxiv.org/abs/2207.01848"
   ]
  }
 ],
 "metadata": {
  "kernelspec": {
   "display_name": "Python 3 (ipykernel)",
   "language": "python",
   "name": "python3"
  },
  "language_info": {
   "codemirror_mode": {
    "name": "ipython",
    "version": 3
   },
   "file_extension": ".py",
   "mimetype": "text/x-python",
   "name": "python",
   "nbconvert_exporter": "python",
   "pygments_lexer": "ipython3",
   "version": "3.12.4"
  }
 },
 "nbformat": 4,
 "nbformat_minor": 5
}
