{
  "nbformat": 4,
  "nbformat_minor": 0,
  "metadata": {
    "colab": {
      "provenance": [],
      "authorship_tag": "ABX9TyO8m84N1e0VmlOs/4HZxURF",
      "include_colab_link": true
    },
    "kernelspec": {
      "name": "python3",
      "display_name": "Python 3"
    },
    "language_info": {
      "name": "python"
    },
    "accelerator": "GPU",
    "gpuClass": "standard"
  },
  "cells": [
    {
      "cell_type": "markdown",
      "metadata": {
        "id": "view-in-github",
        "colab_type": "text"
      },
      "source": [
        "<a href=\"https://colab.research.google.com/github/maurosc3ner/ml_python_playground/blob/main/book_fchollet/dl_chollet_ch2.ipynb\" target=\"_parent\"><img src=\"https://colab.research.google.com/assets/colab-badge.svg\" alt=\"Open In Colab\"/></a>"
      ]
    },
    {
      "cell_type": "markdown",
      "source": [
        "# Chapter 2\n",
        "\n",
        "## Imports\n"
      ],
      "metadata": {
        "id": "yYZIzzk953qZ"
      }
    },
    {
      "cell_type": "code",
      "execution_count": null,
      "metadata": {
        "id": "Zue5tst83qLD"
      },
      "outputs": [],
      "source": [
        "import tensorflow as tf\n",
        "import os\n",
        "import matplotlib.pyplot as plt\n",
        "import numpy as np\n",
        "import logging\n",
        "logger = tf.get_logger()\n",
        "logger.setLevel(logging.ERROR)\n",
        "from tensorflow.keras.datasets import mnist\n",
        "\n"
      ]
    },
    {
      "cell_type": "code",
      "source": [
        "(train_x,train_y), (test_x,test_y) = mnist.load_data()"
      ],
      "metadata": {
        "colab": {
          "base_uri": "https://localhost:8080/"
        },
        "id": "rmuXJ7ny5JGc",
        "outputId": "4fb2c44b-032c-4b66-aba6-6eb6f0433ed7"
      },
      "execution_count": null,
      "outputs": [
        {
          "output_type": "stream",
          "name": "stdout",
          "text": [
            "Downloading data from https://storage.googleapis.com/tensorflow/tf-keras-datasets/mnist.npz\n",
            "11490434/11490434 [==============================] - 1s 0us/step\n"
          ]
        }
      ]
    },
    {
      "cell_type": "code",
      "source": [
        "print(train_x.shape)\n",
        "print(len(train_y))\n",
        "print(train_y)\n",
        "\n",
        "print(test_x.shape)"
      ],
      "metadata": {
        "colab": {
          "base_uri": "https://localhost:8080/"
        },
        "id": "8b6-KvfD5V48",
        "outputId": "f8754219-a5df-4d42-84b2-8f39ee5a3945"
      },
      "execution_count": null,
      "outputs": [
        {
          "output_type": "stream",
          "name": "stdout",
          "text": [
            "(60000, 28, 28)\n",
            "60000\n",
            "[5 0 4 ... 5 6 8]\n",
            "(10000, 28, 28)\n"
          ]
        }
      ]
    },
    {
      "cell_type": "code",
      "source": [
        "def plotImages(images_arr):\n",
        "    fig, axes = plt.subplots(1, 4, figsize=(28,28))\n",
        "    axes = axes.flatten()\n",
        "    for img, ax in zip(images_arr, axes):\n",
        "        ax.imshow(img, cmap=plt.cm.binary)\n",
        "    plt.tight_layout()\n",
        "    plt.show()\n",
        "\n",
        "plotImages(train_x[:4])  # Plot images 0-4"
      ],
      "metadata": {
        "colab": {
          "base_uri": "https://localhost:8080/",
          "height": 368
        },
        "id": "3t6Df_-W_gaP",
        "outputId": "9762b729-9c2d-4988-feb5-addd1e36f7ee"
      },
      "execution_count": null,
      "outputs": [
        {
          "output_type": "display_data",
          "data": {
            "text/plain": [
              "<Figure size 2016x2016 with 4 Axes>"
            ],
            "image/png": "[encoded data removed]"
          },
          "metadata": {
            "needs_background": "light"
          }
        }
      ]
    },
    {
      "cell_type": "code",
      "source": [
        "# let's convert to array\n",
        "train_x = train_x.reshape(-1,28,28,1).astype('float32')/255\n",
        "test_x = test_x.reshape(-1,28,28,1).astype('float32')/255\n",
        "\n",
        "print(train_x.shape,test_x.shape)\n"
      ],
      "metadata": {
        "colab": {
          "base_uri": "https://localhost:8080/"
        },
        "id": "dbZgcoDZ7kHV",
        "outputId": "df16c09d-68d5-427c-a082-bfa3bfc36d55"
      },
      "execution_count": null,
      "outputs": [
        {
          "output_type": "stream",
          "name": "stdout",
          "text": [
            "(60000, 28, 28, 1) (10000, 28, 28, 1)\n"
          ]
        }
      ]
    },
    {
      "cell_type": "code",
      "source": [
        "model1=tf.keras.Sequential([\n",
        "    tf.keras.layers.Flatten(input_shape=(28, 28, 1)),\n",
        "    tf.keras.layers.Dense(512,activation=\"relu\",input_shape = (28, 28, 1)),\n",
        "    tf.keras.layers.Dense(10, activation=\"softmax\") \n",
        "])\n",
        "model1.compile(optimizer='rmsprop',\n",
        "              loss=\"sparse_categorical_crossentropy\",\n",
        "              metrics=['accuracy'])\n",
        "model1.summary()"
      ],
      "metadata": {
        "colab": {
          "base_uri": "https://localhost:8080/"
        },
        "id": "kWS8Abdo5m0Q",
        "outputId": "ffd88b8c-bcf3-4ad8-a57a-6c441aac2ce4"
      },
      "execution_count": null,
      "outputs": [
        {
          "output_type": "stream",
          "name": "stdout",
          "text": [
            "Model: \"sequential\"\n",
            "_________________________________________________________________\n",
            " Layer (type)                Output Shape              Param #   \n",
            "=================================================================\n",
            " flatten (Flatten)           (None, 784)               0         \n",
            "                                                                 \n",
            " dense (Dense)               (None, 512)               401920    \n",
            "                                                                 \n",
            " dense_1 (Dense)             (None, 10)                5130      \n",
            "                                                                 \n",
            "=================================================================\n",
            "Total params: 407,050\n",
            "Trainable params: 407,050\n",
            "Non-trainable params: 0\n",
            "_________________________________________________________________\n"
          ]
        }
      ]
    },
    {
      "cell_type": "code",
      "source": [
        "history1=model1.fit(train_x, \n",
        "           train_y, \n",
        "           epochs=5, batch_size=32,\n",
        "           validation_data=[test_x, test_y],verbose=2)"
      ],
      "metadata": {
        "colab": {
          "base_uri": "https://localhost:8080/"
        },
        "id": "P-uzxFSI9jmN",
        "outputId": "6386b245-9e19-445d-fefe-557b90583cfb"
      },
      "execution_count": null,
      "outputs": [
        {
          "output_type": "stream",
          "name": "stdout",
          "text": [
            "Epoch 1/5\n",
            "1875/1875 - 4s - loss: 0.0264 - accuracy: 0.9919 - val_loss: 0.0675 - val_accuracy: 0.9831 - 4s/epoch - 2ms/step\n",
            "Epoch 2/5\n",
            "1875/1875 - 4s - loss: 0.0198 - accuracy: 0.9940 - val_loss: 0.0743 - val_accuracy: 0.9810 - 4s/epoch - 2ms/step\n",
            "Epoch 3/5\n",
            "1875/1875 - 5s - loss: 0.0159 - accuracy: 0.9951 - val_loss: 0.0870 - val_accuracy: 0.9794 - 5s/epoch - 2ms/step\n",
            "Epoch 4/5\n",
            "1875/1875 - 4s - loss: 0.0127 - accuracy: 0.9962 - val_loss: 0.0746 - val_accuracy: 0.9839 - 4s/epoch - 2ms/step\n",
            "Epoch 5/5\n",
            "1875/1875 - 5s - loss: 0.0090 - accuracy: 0.9976 - val_loss: 0.0793 - val_accuracy: 0.9826 - 5s/epoch - 3ms/step\n"
          ]
        }
      ]
    },
    {
      "cell_type": "code",
      "source": [
        "acc = history1.history['accuracy']\n",
        "val_acc = history1.history['val_accuracy']\n",
        "\n",
        "loss = history1.history['loss']\n",
        "val_loss = history1.history['val_loss']\n",
        "\n",
        "epochs_range = range(5)\n",
        "\n",
        "plt.figure(figsize=(8, 8))\n",
        "plt.subplot(1, 2, 1)\n",
        "plt.plot(epochs_range, acc, label='Training Accuracy')\n",
        "plt.plot(epochs_range, val_acc, label='Validation Accuracy')\n",
        "plt.legend(loc='lower right')\n",
        "plt.title('Training and Validation Accuracy')\n",
        "\n",
        "plt.subplot(1, 2, 2)\n",
        "plt.plot(epochs_range, loss, label='Training Loss')\n",
        "plt.plot(epochs_range, val_loss, label='Validation Loss')\n",
        "plt.legend(loc='upper right')\n",
        "plt.title('Training and Validation Loss')\n",
        "plt.show()"
      ],
      "metadata": {
        "colab": {
          "base_uri": "https://localhost:8080/",
          "height": 499
        },
        "id": "S-swAg64JNSP",
        "outputId": "277fdb33-c446-49b2-8e00-30285acea04a"
      },
      "execution_count": null,
      "outputs": [
        {
          "output_type": "display_data",
          "data": {
            "text/plain": [
              "<Figure size 576x576 with 2 Axes>"
            ],
            "image/png": "[encoded data removed]"
          },
          "metadata": {
            "needs_background": "light"
          }
        }
      ]
    },
    {
      "cell_type": "code",
      "source": [
        "plotImages(test_x[:10])  # Plot images 0-4"
      ],
      "metadata": {
        "colab": {
          "base_uri": "https://localhost:8080/",
          "height": 368
        },
        "id": "JK_20Ys-JxF8",
        "outputId": "264395c3-d2af-4c7f-a991-dd17da5e2009"
      },
      "execution_count": null,
      "outputs": [
        {
          "output_type": "display_data",
          "data": {
            "text/plain": [
              "<Figure size 2016x2016 with 4 Axes>"
            ],
            "image/png": "[encoded data removed]"
          },
          "metadata": {
            "needs_background": "light"
          }
        }
      ]
    },
    {
      "cell_type": "code",
      "source": [
        "#make predictions\n",
        "predictions=model1.predict(test_x[0:5])\n",
        "\n",
        "print(predictions.shape)\n",
        "print(predictions)\n",
        "\n",
        "print(predictions.argmax(axis=1))\n",
        "print(test_y[0:5])"
      ],
      "metadata": {
        "colab": {
          "base_uri": "https://localhost:8080/"
        },
        "id": "oUfV1wi-JlL9",
        "outputId": "b83f620f-b49d-4b7f-b332-804050419d66"
      },
      "execution_count": null,
      "outputs": [
        {
          "output_type": "stream",
          "name": "stdout",
          "text": [
            "1/1 [==============================] - 0s 34ms/step\n",
            "(5, 10)\n",
            "[[4.35582593e-14 1.39655715e-17 3.65140600e-12 1.00105133e-08\n",
            "  3.23333075e-20 6.01201942e-18 5.99262265e-19 1.00000000e+00\n",
            "  6.19152021e-16 4.25881067e-11]\n",
            " [9.11223611e-14 7.21669557e-10 1.00000000e+00 1.20859555e-11\n",
            "  1.06099368e-19 6.45146625e-15 4.50553342e-15 2.00052207e-24\n",
            "  8.12416107e-12 7.38153633e-22]\n",
            " [4.32772401e-10 9.99989510e-01 1.78368202e-06 9.93369387e-10\n",
            "  3.61933502e-07 3.73822662e-09 7.64665344e-08 3.73529610e-06\n",
            "  4.47838147e-06 5.13963004e-11]\n",
            " [1.00000000e+00 1.76570424e-16 2.23830524e-12 3.59788064e-17\n",
            "  2.57833685e-13 2.38477061e-14 1.14741050e-09 5.01522261e-12\n",
            "  5.94285791e-19 4.06956017e-13]\n",
            " [3.87785937e-09 3.41958009e-14 4.02908748e-11 1.35704843e-14\n",
            "  9.99945045e-01 2.24792692e-13 2.24729724e-09 2.68376041e-08\n",
            "  2.73865219e-11 5.49420074e-05]]\n",
            "[7 2 1 0 4]\n",
            "[7 2 1 0 4]\n"
          ]
        }
      ]
    },
    {
      "cell_type": "code",
      "source": [
        "myslice=train_x[20:100]\n",
        "print(myslice.shape)\n",
        "\n",
        "myslice=train_x[20:100,:,:]\n",
        "print(myslice.shape)\n",
        "\n",
        "myslice=train_x[20:100,0:28,0:28]\n",
        "print(myslice.shape)"
      ],
      "metadata": {
        "colab": {
          "base_uri": "https://localhost:8080/"
        },
        "id": "cOJJm56OM29p",
        "outputId": "4321902a-4fdb-40b5-94a9-b728d0080f90"
      },
      "execution_count": null,
      "outputs": [
        {
          "output_type": "stream",
          "name": "stdout",
          "text": [
            "(80, 28, 28, 1)\n",
            "(80, 28, 28, 1)\n",
            "(80, 28, 28, 1)\n"
          ]
        }
      ]
    },
    {
      "cell_type": "markdown",
      "source": [
        "numpy broadcasting is a process to match axes/dimensions in a tensor operation by repeating the smaller tensor"
      ],
      "metadata": {
        "id": "geotqXS06IW_"
      }
    },
    {
      "cell_type": "code",
      "source": [
        "import numpy as np\n",
        "x = np.random.random((64, 3, 32, 10)) \n",
        "y = np.random.random((32, 10))    \n",
        "z = np.maximum(x, y)   \n",
        "\n",
        "print(x.shape,y.shape,z.shape)"
      ],
      "metadata": {
        "colab": {
          "base_uri": "https://localhost:8080/"
        },
        "id": "euzhJi_F23fk",
        "outputId": "b2ca27c4-5dc3-40d6-fef6-88ea22129f4f"
      },
      "execution_count": null,
      "outputs": [
        {
          "output_type": "stream",
          "name": "stdout",
          "text": [
            "(64, 3, 32, 10) (32, 10) (64, 3, 32, 10)\n"
          ]
        }
      ]
    },
    {
      "cell_type": "code",
      "source": [
        "import tensorflow as tf\n",
        "#numpy-like initializers\n",
        "print(tf.ones(shape=(2,1)))\n",
        "print(tf.zeros(shape=(2,1)))\n",
        "#following a distribution\n",
        "print(tf.random.uniform(shape=(5,1),minval=0.,maxval=1.))\n",
        "print(tf.random.normal(shape=(5,1),mean=0.,stddev=1.))"
      ],
      "metadata": {
        "colab": {
          "base_uri": "https://localhost:8080/"
        },
        "id": "V2Gb4jDLmd0s",
        "outputId": "b97610c9-05eb-4b15-a7b7-6d228e7a7171"
      },
      "execution_count": null,
      "outputs": [
        {
          "output_type": "stream",
          "name": "stdout",
          "text": [
            "tf.Tensor(\n",
            "[[1.]\n",
            " [1.]], shape=(2, 1), dtype=float32)\n",
            "tf.Tensor(\n",
            "[[0.]\n",
            " [0.]], shape=(2, 1), dtype=float32)\n",
            "tf.Tensor(\n",
            "[[0.39036548]\n",
            " [0.38542688]\n",
            " [0.43908954]\n",
            " [0.8510095 ]\n",
            " [0.7991024 ]], shape=(5, 1), dtype=float32)\n",
            "tf.Tensor(\n",
            "[[ 0.00187731]\n",
            " [-1.2787402 ]\n",
            " [-0.7838358 ]\n",
            " [ 0.2576147 ]\n",
            " [ 0.18943967]], shape=(5, 1), dtype=float32)\n"
          ]
        }
      ]
    },
    {
      "cell_type": "markdown",
      "source": [
        "Tensors are not assignables like numpy"
      ],
      "metadata": {
        "id": "Pv1ArYEsn3Wn"
      }
    },
    {
      "cell_type": "code",
      "source": [
        "x=np.ones(shape=(2,2))\n",
        "print(x)\n",
        "x[0,0]=0\n",
        "print(x)"
      ],
      "metadata": {
        "colab": {
          "base_uri": "https://localhost:8080/"
        },
        "id": "5_3aMOLynecQ",
        "outputId": "a9a00a53-7545-44ea-b171-da91989ac846"
      },
      "execution_count": null,
      "outputs": [
        {
          "output_type": "stream",
          "name": "stdout",
          "text": [
            "[[1. 1.]\n",
            " [1. 1.]]\n",
            "[[0. 1.]\n",
            " [1. 1.]]\n"
          ]
        }
      ]
    },
    {
      "cell_type": "code",
      "source": [
        "x=tf.ones(shape=(2,2))\n",
        "x[0,0]=0"
      ],
      "metadata": {
        "colab": {
          "base_uri": "https://localhost:8080/",
          "height": 240
        },
        "id": "2wsO0my5oF8N",
        "outputId": "0729a296-4f04-4073-dde4-76a1bfe9126a"
      },
      "execution_count": null,
      "outputs": [
        {
          "output_type": "error",
          "ename": "TypeError",
          "evalue": "ignored",
          "traceback": [
            "\u001b[0;31m---------------------------------------------------------------------------\u001b[0m",
            "\u001b[0;31mTypeError\u001b[0m                                 Traceback (most recent call last)",
            "\u001b[0;32m<ipython-input-10-0fa244cbac9e>\u001b[0m in \u001b[0;36m<module>\u001b[0;34m\u001b[0m\n\u001b[1;32m      1\u001b[0m \u001b[0mx\u001b[0m\u001b[0;34m=\u001b[0m\u001b[0mtf\u001b[0m\u001b[0;34m.\u001b[0m\u001b[0mones\u001b[0m\u001b[0;34m(\u001b[0m\u001b[0mshape\u001b[0m\u001b[0;34m=\u001b[0m\u001b[0;34m(\u001b[0m\u001b[0;36m2\u001b[0m\u001b[0;34m,\u001b[0m\u001b[0;36m2\u001b[0m\u001b[0;34m)\u001b[0m\u001b[0;34m)\u001b[0m\u001b[0;34m\u001b[0m\u001b[0;34m\u001b[0m\u001b[0m\n\u001b[0;32m----> 2\u001b[0;31m \u001b[0mx\u001b[0m\u001b[0;34m[\u001b[0m\u001b[0;36m0\u001b[0m\u001b[0;34m,\u001b[0m\u001b[0;36m0\u001b[0m\u001b[0;34m]\u001b[0m\u001b[0;34m=\u001b[0m\u001b[0;36m0\u001b[0m\u001b[0;34m\u001b[0m\u001b[0;34m\u001b[0m\u001b[0m\n\u001b[0m",
            "\u001b[0;31mTypeError\u001b[0m: 'tensorflow.python.framework.ops.EagerTensor' object does not support item assignment"
          ]
        }
      ]
    },
    {
      "cell_type": "markdown",
      "source": [
        "You need to declare a tensor as variable\n",
        "\n",
        "\n",
        "\n",
        "\n",
        "\n"
      ],
      "metadata": {
        "id": "6aq-pKwboOod"
      }
    },
    {
      "cell_type": "code",
      "source": [],
      "metadata": {
        "id": "caY6qzucoNOm"
      },
      "execution_count": null,
      "outputs": []
    }
  ]
}