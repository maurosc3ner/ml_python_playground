{
  "nbformat": 4,
  "nbformat_minor": 0,
  "metadata": {
    "colab": {
      "provenance": [],
      "toc_visible": true,
      "authorship_tag": "ABX9TyNidYgqOa/ZKb7ZsTa6XPmF",
      "include_colab_link": true
    },
    "kernelspec": {
      "name": "python3",
      "display_name": "Python 3"
    },
    "language_info": {
      "name": "python"
    },
    "accelerator": "GPU",
    "gpuClass": "standard"
  },
  "cells": [
    {
      "cell_type": "markdown",
      "metadata": {
        "id": "view-in-github",
        "colab_type": "text"
      },
      "source": [
        "<a href=\"https://colab.research.google.com/github/maurosc3ner/ml_python_playground/blob/main/book_fchollet/dl_chollet_ch4_1_imdb_classifier.ipynb\" target=\"_parent\"><img src=\"https://colab.research.google.com/assets/colab-badge.svg\" alt=\"Open In Colab\"/></a>"
      ]
    },
    {
      "cell_type": "markdown",
      "source": [
        "Imports"
      ],
      "metadata": {
        "id": "psD8ss8hFW6e"
      }
    },
    {
      "cell_type": "code",
      "execution_count": 3,
      "metadata": {
        "id": "KEVaaS6VFIBX"
      },
      "outputs": [],
      "source": [
        "from tensorflow.keras.datasets import imdb\n",
        "import tensorflow as tf\n",
        "import os\n",
        "import matplotlib.pyplot as plt\n",
        "import numpy as np\n",
        "(tr_x, tr_y), (te_x,te_y)=imdb.load_data(num_words=10000)\n"
      ]
    },
    {
      "cell_type": "code",
      "source": [
        "tr_x[0]"
      ],
      "metadata": {
        "colab": {
          "base_uri": "https://localhost:8080/"
        },
        "id": "kBqHzcwLolPm",
        "outputId": "00158366-404e-4e47-bf48-acbea5a7c60d"
      },
      "execution_count": 4,
      "outputs": [
        {
          "output_type": "execute_result",
          "data": {
            "text/plain": [
              "[1,\n",
              " 14,\n",
              " 22,\n",
              " 16,\n",
              " 43,\n",
              " 530,\n",
              " 973,\n",
              " 1622,\n",
              " 1385,\n",
              " 65,\n",
              " 458,\n",
              " 4468,\n",
              " 66,\n",
              " 3941,\n",
              " 4,\n",
              " 173,\n",
              " 36,\n",
              " 256,\n",
              " 5,\n",
              " 25,\n",
              " 100,\n",
              " 43,\n",
              " 838,\n",
              " 112,\n",
              " 50,\n",
              " 670,\n",
              " 2,\n",
              " 9,\n",
              " 35,\n",
              " 480,\n",
              " 284,\n",
              " 5,\n",
              " 150,\n",
              " 4,\n",
              " 172,\n",
              " 112,\n",
              " 167,\n",
              " 2,\n",
              " 336,\n",
              " 385,\n",
              " 39,\n",
              " 4,\n",
              " 172,\n",
              " 4536,\n",
              " 1111,\n",
              " 17,\n",
              " 546,\n",
              " 38,\n",
              " 13,\n",
              " 447,\n",
              " 4,\n",
              " 192,\n",
              " 50,\n",
              " 16,\n",
              " 6,\n",
              " 147,\n",
              " 2025,\n",
              " 19,\n",
              " 14,\n",
              " 22,\n",
              " 4,\n",
              " 1920,\n",
              " 4613,\n",
              " 469,\n",
              " 4,\n",
              " 22,\n",
              " 71,\n",
              " 87,\n",
              " 12,\n",
              " 16,\n",
              " 43,\n",
              " 530,\n",
              " 38,\n",
              " 76,\n",
              " 15,\n",
              " 13,\n",
              " 1247,\n",
              " 4,\n",
              " 22,\n",
              " 17,\n",
              " 515,\n",
              " 17,\n",
              " 12,\n",
              " 16,\n",
              " 626,\n",
              " 18,\n",
              " 2,\n",
              " 5,\n",
              " 62,\n",
              " 386,\n",
              " 12,\n",
              " 8,\n",
              " 316,\n",
              " 8,\n",
              " 106,\n",
              " 5,\n",
              " 4,\n",
              " 2223,\n",
              " 5244,\n",
              " 16,\n",
              " 480,\n",
              " 66,\n",
              " 3785,\n",
              " 33,\n",
              " 4,\n",
              " 130,\n",
              " 12,\n",
              " 16,\n",
              " 38,\n",
              " 619,\n",
              " 5,\n",
              " 25,\n",
              " 124,\n",
              " 51,\n",
              " 36,\n",
              " 135,\n",
              " 48,\n",
              " 25,\n",
              " 1415,\n",
              " 33,\n",
              " 6,\n",
              " 22,\n",
              " 12,\n",
              " 215,\n",
              " 28,\n",
              " 77,\n",
              " 52,\n",
              " 5,\n",
              " 14,\n",
              " 407,\n",
              " 16,\n",
              " 82,\n",
              " 2,\n",
              " 8,\n",
              " 4,\n",
              " 107,\n",
              " 117,\n",
              " 5952,\n",
              " 15,\n",
              " 256,\n",
              " 4,\n",
              " 2,\n",
              " 7,\n",
              " 3766,\n",
              " 5,\n",
              " 723,\n",
              " 36,\n",
              " 71,\n",
              " 43,\n",
              " 530,\n",
              " 476,\n",
              " 26,\n",
              " 400,\n",
              " 317,\n",
              " 46,\n",
              " 7,\n",
              " 4,\n",
              " 2,\n",
              " 1029,\n",
              " 13,\n",
              " 104,\n",
              " 88,\n",
              " 4,\n",
              " 381,\n",
              " 15,\n",
              " 297,\n",
              " 98,\n",
              " 32,\n",
              " 2071,\n",
              " 56,\n",
              " 26,\n",
              " 141,\n",
              " 6,\n",
              " 194,\n",
              " 7486,\n",
              " 18,\n",
              " 4,\n",
              " 226,\n",
              " 22,\n",
              " 21,\n",
              " 134,\n",
              " 476,\n",
              " 26,\n",
              " 480,\n",
              " 5,\n",
              " 144,\n",
              " 30,\n",
              " 5535,\n",
              " 18,\n",
              " 51,\n",
              " 36,\n",
              " 28,\n",
              " 224,\n",
              " 92,\n",
              " 25,\n",
              " 104,\n",
              " 4,\n",
              " 226,\n",
              " 65,\n",
              " 16,\n",
              " 38,\n",
              " 1334,\n",
              " 88,\n",
              " 12,\n",
              " 16,\n",
              " 283,\n",
              " 5,\n",
              " 16,\n",
              " 4472,\n",
              " 113,\n",
              " 103,\n",
              " 32,\n",
              " 15,\n",
              " 16,\n",
              " 5345,\n",
              " 19,\n",
              " 178,\n",
              " 32]"
            ]
          },
          "metadata": {},
          "execution_count": 4
        }
      ]
    },
    {
      "cell_type": "code",
      "source": [
        "print(tr_x.ndim,tr_x.shape)\n",
        "print(tr_x[0])\n",
        "print(len(tr_x[0]))\n",
        "\n",
        "print(tr_y.ndim,tr_y.shape)\n",
        "print(tr_y[0:5])"
      ],
      "metadata": {
        "colab": {
          "base_uri": "https://localhost:8080/"
        },
        "id": "HSaOpRa5Ga4A",
        "outputId": "f5ac78dd-342a-45a9-f1cd-661343922827"
      },
      "execution_count": 4,
      "outputs": [
        {
          "output_type": "stream",
          "name": "stdout",
          "text": [
            "1 (25000,)\n",
            "[1, 14, 22, 16, 43, 530, 973, 1622, 1385, 65, 458, 4468, 66, 3941, 4, 173, 36, 256, 5, 25, 100, 43, 838, 112, 50, 670, 2, 9, 35, 480, 284, 5, 150, 4, 172, 112, 167, 2, 336, 385, 39, 4, 172, 4536, 1111, 17, 546, 38, 13, 447, 4, 192, 50, 16, 6, 147, 2025, 19, 14, 22, 4, 1920, 4613, 469, 4, 22, 71, 87, 12, 16, 43, 530, 38, 76, 15, 13, 1247, 4, 22, 17, 515, 17, 12, 16, 626, 18, 2, 5, 62, 386, 12, 8, 316, 8, 106, 5, 4, 2223, 5244, 16, 480, 66, 3785, 33, 4, 130, 12, 16, 38, 619, 5, 25, 124, 51, 36, 135, 48, 25, 1415, 33, 6, 22, 12, 215, 28, 77, 52, 5, 14, 407, 16, 82, 2, 8, 4, 107, 117, 5952, 15, 256, 4, 2, 7, 3766, 5, 723, 36, 71, 43, 530, 476, 26, 400, 317, 46, 7, 4, 2, 1029, 13, 104, 88, 4, 381, 15, 297, 98, 32, 2071, 56, 26, 141, 6, 194, 7486, 18, 4, 226, 22, 21, 134, 476, 26, 480, 5, 144, 30, 5535, 18, 51, 36, 28, 224, 92, 25, 104, 4, 226, 65, 16, 38, 1334, 88, 12, 16, 283, 5, 16, 4472, 113, 103, 32, 15, 16, 5345, 19, 178, 32]\n",
            "218\n",
            "1 (25000,)\n",
            "[1 0 0 1 0]\n"
          ]
        }
      ]
    },
    {
      "cell_type": "code",
      "source": [
        "# word index to text\n",
        "word_index=imdb.get_word_index()\n",
        "reverse_word_index=dict(\n",
        "    [(value,key) for (key,value) in word_index.items()])\n",
        "\n",
        "decoded_rev=\" \".join([\n",
        "    reverse_word_index.get(i-3,\"?\") for i in tr_x[0]\n",
        "])\n",
        "\n",
        "print(decoded_rev)\n",
        "\n",
        "decoded_rev=\" \".join([\n",
        "    reverse_word_index.get(i-3,\"?\") for i in tr_x[1]\n",
        "])\n",
        "\n",
        "print(decoded_rev)"
      ],
      "metadata": {
        "colab": {
          "base_uri": "https://localhost:8080/"
        },
        "id": "F9O8qd3fGpIr",
        "outputId": "88571048-addf-46b6-c275-b951bce6c383"
      },
      "execution_count": 5,
      "outputs": [
        {
          "output_type": "stream",
          "name": "stdout",
          "text": [
            "? this film was just brilliant casting location scenery story direction everyone's really suited the part they played and you could just imagine being there robert ? is an amazing actor and now the same being director ? father came from the same scottish island as myself so i loved the fact there was a real connection with this film the witty remarks throughout the film were great it was just brilliant so much that i bought the film as soon as it was released for ? and would recommend it to everyone to watch and the fly fishing was amazing really cried at the end it was so sad and you know what they say if you cry at a film it must have been good and this definitely was also ? to the two little boy's that played the ? of norman and paul they were just brilliant children are often left out of the ? list i think because the stars that play them all grown up are such a big profile for the whole film but these children are amazing and should be praised for what they have done don't you think the whole story was so lovely because it was true and was someone's life after all that was shared with us all\n",
            "? big hair big boobs bad music and a giant safety pin these are the words to best describe this terrible movie i love cheesy horror movies and i've seen hundreds but this had got to be on of the worst ever made the plot is paper thin and ridiculous the acting is an abomination the script is completely laughable the best is the end showdown with the cop and how he worked out who the killer is it's just so damn terribly written the clothes are sickening and funny in equal ? the hair is big lots of boobs ? men wear those cut ? shirts that show off their ? sickening that men actually wore them and the music is just ? trash that plays over and over again in almost every scene there is trashy music boobs and ? taking away bodies and the gym still doesn't close for ? all joking aside this is a truly bad film whose only charm is to look back on the disaster that was the 80's and have a good old laugh at how bad everything was back then\n"
          ]
        }
      ]
    },
    {
      "cell_type": "markdown",
      "source": [
        "# Vectorize\n",
        "Each list has different lenght, you can encode in two ways:\n",
        "\n",
        "* Padding all lists using the max list length (samples, max_length)\n",
        "* Multi-hot encoding (put 1 in the position reflected by the word, 10k positions), having a size of (samples,10000)"
      ],
      "metadata": {
        "id": "dR3-6zuOJkfC"
      }
    },
    {
      "cell_type": "code",
      "source": [
        "def vectorizer(sequences,dim=10000):\n",
        "  results = np.zeros((len(sequences),dim))\n",
        "  for i, sequence in enumerate(sequences):\n",
        "    for j in sequence:\n",
        "      results[i,j]=1.\n",
        "  return results\n",
        "\n",
        "tr_x2=vectorizer(tr_x)\n",
        "te_x2=vectorizer(te_x)\n",
        "print(tr_x2.ndim,tr_x2.shape)\n",
        "#print first 10 words\n",
        "print(tr_x[0])\n",
        "print(tr_x2[0])"
      ],
      "metadata": {
        "colab": {
          "base_uri": "https://localhost:8080/"
        },
        "id": "m2opo0oLJNCn",
        "outputId": "d0cc2634-5e5f-4f9f-c84d-b49a9e167d48"
      },
      "execution_count": 7,
      "outputs": [
        {
          "output_type": "stream",
          "name": "stdout",
          "text": [
            "2 (25000, 10000)\n",
            "[1, 14, 22, 16, 43, 530, 973, 1622, 1385, 65, 458, 4468, 66, 3941, 4, 173, 36, 256, 5, 25, 100, 43, 838, 112, 50, 670, 2, 9, 35, 480, 284, 5, 150, 4, 172, 112, 167, 2, 336, 385, 39, 4, 172, 4536, 1111, 17, 546, 38, 13, 447, 4, 192, 50, 16, 6, 147, 2025, 19, 14, 22, 4, 1920, 4613, 469, 4, 22, 71, 87, 12, 16, 43, 530, 38, 76, 15, 13, 1247, 4, 22, 17, 515, 17, 12, 16, 626, 18, 2, 5, 62, 386, 12, 8, 316, 8, 106, 5, 4, 2223, 5244, 16, 480, 66, 3785, 33, 4, 130, 12, 16, 38, 619, 5, 25, 124, 51, 36, 135, 48, 25, 1415, 33, 6, 22, 12, 215, 28, 77, 52, 5, 14, 407, 16, 82, 2, 8, 4, 107, 117, 5952, 15, 256, 4, 2, 7, 3766, 5, 723, 36, 71, 43, 530, 476, 26, 400, 317, 46, 7, 4, 2, 1029, 13, 104, 88, 4, 381, 15, 297, 98, 32, 2071, 56, 26, 141, 6, 194, 7486, 18, 4, 226, 22, 21, 134, 476, 26, 480, 5, 144, 30, 5535, 18, 51, 36, 28, 224, 92, 25, 104, 4, 226, 65, 16, 38, 1334, 88, 12, 16, 283, 5, 16, 4472, 113, 103, 32, 15, 16, 5345, 19, 178, 32]\n",
            "[0. 1. 1. ... 0. 0. 0.]\n"
          ]
        }
      ]
    },
    {
      "cell_type": "code",
      "source": [
        "tr_y2=np.asarray(tr_y).astype(\"float32\")\n",
        "\n",
        "te_y2=np.asarray(te_y).astype(\"float32\")\n",
        "print(tr_y,tr_y2)\n",
        "print(te_y2)"
      ],
      "metadata": {
        "colab": {
          "base_uri": "https://localhost:8080/"
        },
        "id": "d898HwQ6LQn3",
        "outputId": "85e3d62f-6da0-4c82-bc56-bfb9f494f4be"
      },
      "execution_count": 8,
      "outputs": [
        {
          "output_type": "stream",
          "name": "stdout",
          "text": [
            "[1 0 0 ... 0 1 0] [1. 0. 0. ... 0. 1. 0.]\n",
            "[0. 1. 1. ... 0. 0. 0.]\n"
          ]
        }
      ]
    },
    {
      "cell_type": "markdown",
      "source": [
        "# Training"
      ],
      "metadata": {
        "id": "p4s_bhVu4Mka"
      }
    },
    {
      "cell_type": "code",
      "source": [
        "m41=tf.keras.Sequential([\n",
        "    # the hypothesis space, 16 dimensions, the bigger number of neurons the more expensive\n",
        "    # non linearity capability\n",
        "    tf.keras.layers.Dense(16,activation=\"relu\"),\n",
        "    tf.keras.layers.Dense(16,activation=\"relu\"),\n",
        "    tf.keras.layers.Dense(1,activation=\"sigmoid\")])\n",
        "m41.compile(optimizer=\"rmsprop\",\n",
        "            loss=\"binary_crossentropy\",\n",
        "            metrics=[\"accuracy\"])"
      ],
      "metadata": {
        "id": "LsKz6WPHLphz"
      },
      "execution_count": 9,
      "outputs": []
    },
    {
      "cell_type": "code",
      "source": [
        "tf.keras.backend.clear_session()\n",
        "tf.random.set_seed(123)\n",
        "np.random.seed(123)\n",
        "\n",
        "print(tr_x2.shape[0])\n",
        "#shuffle\n",
        "#idx=np.random.permutation(tr_x2.shape[0])\n",
        "#sh_inputs=tr_x2[idx]\n",
        "#sh_targets=tr_y2[idx]\n",
        "#val_samples=int(0.7*(tr_x2.shape[0]))\n",
        "\n",
        "val_samples=10000\n",
        "tr_inputs=tr_x2[:val_samples]\n",
        "tr_targets=tr_y2[:val_samples]\n",
        "\n",
        "val_inputs=tr_x2[:val_samples]\n",
        "val_targets=tr_y2[:val_samples]\n",
        "\n",
        "print(tr_inputs.shape,val_inputs.shape)\n",
        "\n",
        "\n",
        "hist=m41.fit(\n",
        "    x=tr_inputs,\n",
        "    y=tr_targets,\n",
        "    epochs=20,\n",
        "    batch_size=128,\n",
        "    validation_data=(val_inputs,val_targets)\n",
        ")\n"
      ],
      "metadata": {
        "colab": {
          "base_uri": "https://localhost:8080/"
        },
        "id": "tLxpbDBhOThO",
        "outputId": "bc3d09ae-66a6-472d-b6f0-8e8d87ccb807"
      },
      "execution_count": 10,
      "outputs": [
        {
          "output_type": "stream",
          "name": "stdout",
          "text": [
            "25000\n",
            "(15000, 10000) (10000, 10000)\n",
            "Epoch 1/20\n",
            "118/118 [==============================] - 7s 15ms/step - loss: 0.4150 - accuracy: 0.8347 - val_loss: 0.2945 - val_accuracy: 0.8860\n",
            "Epoch 2/20\n",
            "118/118 [==============================] - 1s 7ms/step - loss: 0.2187 - accuracy: 0.9206 - val_loss: 0.2744 - val_accuracy: 0.8910\n",
            "Epoch 3/20\n",
            "118/118 [==============================] - 1s 7ms/step - loss: 0.1611 - accuracy: 0.9409 - val_loss: 0.2898 - val_accuracy: 0.8873\n",
            "Epoch 4/20\n",
            "118/118 [==============================] - 1s 8ms/step - loss: 0.1232 - accuracy: 0.9577 - val_loss: 0.3176 - val_accuracy: 0.8832\n",
            "Epoch 5/20\n",
            "118/118 [==============================] - 1s 8ms/step - loss: 0.0951 - accuracy: 0.9677 - val_loss: 0.3558 - val_accuracy: 0.8795\n",
            "Epoch 6/20\n",
            "118/118 [==============================] - 1s 8ms/step - loss: 0.0714 - accuracy: 0.9761 - val_loss: 0.4018 - val_accuracy: 0.8775\n",
            "Epoch 7/20\n",
            "118/118 [==============================] - 1s 8ms/step - loss: 0.0528 - accuracy: 0.9837 - val_loss: 0.4638 - val_accuracy: 0.8742\n",
            "Epoch 8/20\n",
            "118/118 [==============================] - 1s 8ms/step - loss: 0.0354 - accuracy: 0.9891 - val_loss: 0.5222 - val_accuracy: 0.8714\n",
            "Epoch 9/20\n",
            "118/118 [==============================] - 1s 10ms/step - loss: 0.0236 - accuracy: 0.9938 - val_loss: 0.5846 - val_accuracy: 0.8624\n",
            "Epoch 10/20\n",
            "118/118 [==============================] - 1s 13ms/step - loss: 0.0151 - accuracy: 0.9957 - val_loss: 0.6367 - val_accuracy: 0.8685\n",
            "Epoch 11/20\n",
            "118/118 [==============================] - 1s 8ms/step - loss: 0.0087 - accuracy: 0.9980 - val_loss: 0.7343 - val_accuracy: 0.8598\n",
            "Epoch 12/20\n",
            "118/118 [==============================] - 1s 8ms/step - loss: 0.0050 - accuracy: 0.9995 - val_loss: 0.7870 - val_accuracy: 0.8670\n",
            "Epoch 13/20\n",
            "118/118 [==============================] - 1s 8ms/step - loss: 0.0027 - accuracy: 0.9998 - val_loss: 0.8487 - val_accuracy: 0.8652\n",
            "Epoch 14/20\n",
            "118/118 [==============================] - 1s 8ms/step - loss: 0.0017 - accuracy: 0.9999 - val_loss: 0.9198 - val_accuracy: 0.8666\n",
            "Epoch 15/20\n",
            "118/118 [==============================] - 1s 8ms/step - loss: 8.6440e-04 - accuracy: 0.9999 - val_loss: 0.9805 - val_accuracy: 0.8672\n",
            "Epoch 16/20\n",
            "118/118 [==============================] - 1s 8ms/step - loss: 4.4614e-04 - accuracy: 0.9999 - val_loss: 1.0887 - val_accuracy: 0.8666\n",
            "Epoch 17/20\n",
            "118/118 [==============================] - 1s 8ms/step - loss: 2.0696e-04 - accuracy: 0.9999 - val_loss: 1.1040 - val_accuracy: 0.8639\n",
            "Epoch 18/20\n",
            "118/118 [==============================] - 1s 8ms/step - loss: 1.1092e-04 - accuracy: 1.0000 - val_loss: 1.1453 - val_accuracy: 0.8665\n",
            "Epoch 19/20\n",
            "118/118 [==============================] - 1s 8ms/step - loss: 6.5533e-05 - accuracy: 1.0000 - val_loss: 1.1794 - val_accuracy: 0.8651\n",
            "Epoch 20/20\n",
            "118/118 [==============================] - 1s 8ms/step - loss: 4.9173e-05 - accuracy: 1.0000 - val_loss: 1.2046 - val_accuracy: 0.8657\n"
          ]
        }
      ]
    },
    {
      "cell_type": "code",
      "source": [
        "history_dict=hist.history\n",
        "history_dict.keys()"
      ],
      "metadata": {
        "colab": {
          "base_uri": "https://localhost:8080/"
        },
        "id": "vdn7UzEcQMVE",
        "outputId": "9f074fce-105f-4797-feb3-4a2e61b50875"
      },
      "execution_count": 36,
      "outputs": [
        {
          "output_type": "execute_result",
          "data": {
            "text/plain": [
              "dict_keys(['loss', 'accuracy', 'val_loss', 'val_accuracy'])"
            ]
          },
          "metadata": {},
          "execution_count": 36
        }
      ]
    },
    {
      "cell_type": "code",
      "source": [
        "acc = hist.history['accuracy']\n",
        "val_acc = hist.history['val_accuracy']\n",
        "\n",
        "loss = hist.history['loss']\n",
        "val_loss = hist.history['val_loss']\n",
        "\n",
        "epochs_range = range(20)\n",
        "\n",
        "plt.figure(figsize=(8, 8))\n",
        "plt.subplot(1, 2, 1)\n",
        "plt.plot(epochs_range, acc, \"bo\",label='Training Accuracy')\n",
        "plt.plot(epochs_range, val_acc,\"b\", label='Validation Accuracy')\n",
        "plt.legend(loc='lower right')\n",
        "plt.title('Training and Validation Accuracy')\n",
        "\n",
        "plt.subplot(1, 2, 2)\n",
        "plt.plot(epochs_range, loss, \"bo\",label='Training Loss')\n",
        "plt.plot(epochs_range, val_loss, \"b\",label='Validation Loss')\n",
        "plt.legend(loc='upper right')\n",
        "plt.title('Training and Validation Loss')\n",
        "plt.show()"
      ],
      "metadata": {
        "colab": {
          "base_uri": "https://localhost:8080/",
          "height": 499
        },
        "id": "JkZVJwNyQHNv",
        "outputId": "3d1b43d2-bdfb-4945-b45e-10b1ba525511"
      },
      "execution_count": 11,
      "outputs": [
        {
          "output_type": "display_data",
          "data": {
            "text/plain": [
              "<Figure size 576x576 with 2 Axes>"
            ],
            "image/png": "[encoded data removed]"
          },
          "metadata": {
            "needs_background": "light"
          }
        }
      ]
    },
    {
      "cell_type": "markdown",
      "source": [
        "# Full model\n",
        "\n",
        "Let's train the model using the full dataset:"
      ],
      "metadata": {
        "id": "FnkYuveI4E0G"
      }
    },
    {
      "cell_type": "code",
      "source": [
        "model = tf.keras.Sequential([\n",
        "    tf.keras.layers.Dense(64, activation=\"relu\"),\n",
        "    tf.keras.layers.Dense(64, activation=\"relu\"),\n",
        "    tf.keras.layers.Dense(1, activation=\"sigmoid\")\n",
        "])\n",
        "model.compile(optimizer=\"rmsprop\",\n",
        "              loss=\"binary_crossentropy\",\n",
        "              metrics=[\"accuracy\"])\n",
        "model.fit(tr_x2, tr_y2, epochs=30, batch_size=128)\n",
        "results = model.evaluate(te_x2, te_y2)\n",
        "\n",
        "print(results)"
      ],
      "metadata": {
        "colab": {
          "base_uri": "https://localhost:8080/"
        },
        "id": "VzhEQ_I5Rx6X",
        "outputId": "18c315f8-e14f-4659-bea9-50dccfd02d60"
      },
      "execution_count": 12,
      "outputs": [
        {
          "output_type": "stream",
          "name": "stdout",
          "text": [
            "Epoch 1/30\n",
            "196/196 [==============================] - 3s 6ms/step - loss: 0.3443 - accuracy: 0.8558\n",
            "Epoch 2/30\n",
            "196/196 [==============================] - 1s 7ms/step - loss: 0.2066 - accuracy: 0.9205\n",
            "Epoch 3/30\n",
            "196/196 [==============================] - 1s 7ms/step - loss: 0.1487 - accuracy: 0.9434\n",
            "Epoch 4/30\n",
            "196/196 [==============================] - 1s 7ms/step - loss: 0.0986 - accuracy: 0.9647\n",
            "Epoch 5/30\n",
            "196/196 [==============================] - 1s 6ms/step - loss: 0.0567 - accuracy: 0.9805\n",
            "Epoch 6/30\n",
            "196/196 [==============================] - 1s 6ms/step - loss: 0.0285 - accuracy: 0.9913\n",
            "Epoch 7/30\n",
            "196/196 [==============================] - 1s 5ms/step - loss: 0.0152 - accuracy: 0.9962\n",
            "Epoch 8/30\n",
            "196/196 [==============================] - 1s 6ms/step - loss: 0.0095 - accuracy: 0.9976\n",
            "Epoch 9/30\n",
            "196/196 [==============================] - 1s 6ms/step - loss: 0.0046 - accuracy: 0.9988\n",
            "Epoch 10/30\n",
            "196/196 [==============================] - 1s 5ms/step - loss: 0.0024 - accuracy: 0.9995\n",
            "Epoch 11/30\n",
            "196/196 [==============================] - 1s 5ms/step - loss: 4.3030e-04 - accuracy: 0.9999\n",
            "Epoch 12/30\n",
            "196/196 [==============================] - 2s 10ms/step - loss: 8.9445e-05 - accuracy: 1.0000\n",
            "Epoch 13/30\n",
            "196/196 [==============================] - 2s 8ms/step - loss: 4.8678e-05 - accuracy: 1.0000\n",
            "Epoch 14/30\n",
            "196/196 [==============================] - 1s 5ms/step - loss: 3.4576e-05 - accuracy: 1.0000\n",
            "Epoch 15/30\n",
            "196/196 [==============================] - 1s 5ms/step - loss: 2.7170e-05 - accuracy: 1.0000\n",
            "Epoch 16/30\n",
            "196/196 [==============================] - 1s 5ms/step - loss: 2.2469e-05 - accuracy: 1.0000\n",
            "Epoch 17/30\n",
            "196/196 [==============================] - 1s 5ms/step - loss: 1.9252e-05 - accuracy: 1.0000\n",
            "Epoch 18/30\n",
            "196/196 [==============================] - 1s 5ms/step - loss: 1.6785e-05 - accuracy: 1.0000\n",
            "Epoch 19/30\n",
            "196/196 [==============================] - 1s 5ms/step - loss: 1.4876e-05 - accuracy: 1.0000\n",
            "Epoch 20/30\n",
            "196/196 [==============================] - 1s 5ms/step - loss: 1.3366e-05 - accuracy: 1.0000\n",
            "Epoch 21/30\n",
            "196/196 [==============================] - 1s 5ms/step - loss: 1.2092e-05 - accuracy: 1.0000\n",
            "Epoch 22/30\n",
            "196/196 [==============================] - 1s 5ms/step - loss: 1.1084e-05 - accuracy: 1.0000\n",
            "Epoch 23/30\n",
            "196/196 [==============================] - 1s 7ms/step - loss: 1.0213e-05 - accuracy: 1.0000\n",
            "Epoch 24/30\n",
            "196/196 [==============================] - 1s 6ms/step - loss: 9.4556e-06 - accuracy: 1.0000\n",
            "Epoch 25/30\n",
            "196/196 [==============================] - 1s 5ms/step - loss: 8.8138e-06 - accuracy: 1.0000\n",
            "Epoch 26/30\n",
            "196/196 [==============================] - 1s 5ms/step - loss: 8.2395e-06 - accuracy: 1.0000\n",
            "Epoch 27/30\n",
            "196/196 [==============================] - 1s 5ms/step - loss: 7.7550e-06 - accuracy: 1.0000\n",
            "Epoch 28/30\n",
            "196/196 [==============================] - 1s 5ms/step - loss: 7.3098e-06 - accuracy: 1.0000\n",
            "Epoch 29/30\n",
            "196/196 [==============================] - 1s 5ms/step - loss: 6.9163e-06 - accuracy: 1.0000\n",
            "Epoch 30/30\n",
            "196/196 [==============================] - 1s 5ms/step - loss: 6.5527e-06 - accuracy: 1.0000\n",
            "782/782 [==============================] - 2s 3ms/step - loss: 1.4378 - accuracy: 0.8692\n",
            "[1.4377635717391968, 0.8691999912261963]\n"
          ]
        }
      ]
    },
    {
      "cell_type": "code",
      "source": [
        "model.predict(te_x2)"
      ],
      "metadata": {
        "colab": {
          "base_uri": "https://localhost:8080/"
        },
        "id": "HCgQAxZtS0j9",
        "outputId": "cec12889-0077-4c8d-ab59-1936303c1e8b"
      },
      "execution_count": 13,
      "outputs": [
        {
          "output_type": "stream",
          "name": "stdout",
          "text": [
            "782/782 [==============================] - 2s 2ms/step\n"
          ]
        },
        {
          "output_type": "execute_result",
          "data": {
            "text/plain": [
              "array([[1.06374886e-04],\n",
              "       [1.00000000e+00],\n",
              "       [9.97315586e-01],\n",
              "       ...,\n",
              "       [3.16003396e-04],\n",
              "       [1.29493527e-08],\n",
              "       [9.99670148e-01]], dtype=float32)"
            ]
          },
          "metadata": {},
          "execution_count": 13
        }
      ]
    }
  ]
}