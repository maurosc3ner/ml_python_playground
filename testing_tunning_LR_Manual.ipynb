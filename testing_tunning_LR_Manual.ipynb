{
 "cells": [
  {
   "cell_type": "markdown",
   "id": "f8fcf996-f9d7-42b5-a245-8113f7d80982",
   "metadata": {},
   "source": [
    "# Testing Logistic Regression (Lab)\n",
    "\n",
    "**Goal:** show how to test a trained logistic regression classifier, compute accuracy, and use the test results to tune a hyperparameter.\n",
    "\n",
    "Running example: a model  that predicts whether a patient is diabetic (1) or healthy (0).\n",
    "\n",
    "We will:\n",
    "\n",
    "- Load a diabetes dataset and split into training and validation sets.\n",
    "- Train logistic regression on the training set.\n",
    "Test on the validation set: compute probabilities, convert to labels, and calculate accuracy.\n",
    "Sweep the hyperparameters (learning rate [$\\alpha$] and number of iterations [$\\k$]) to see how validation accuracy changes."
   ]
  },
  {
   "cell_type": "code",
   "execution_count": 1,
   "id": "991f1201-5b7b-4ed7-abd9-d03b5977586f",
   "metadata": {},
   "outputs": [],
   "source": [
    "import numpy as np\n",
    "import pandas as pd\n",
    "import matplotlib.pyplot as plt\n",
    "from sklearn.model_selection import train_test_split\n",
    "from scipy.special import expit\n",
    "rng = np.random.default_rng(42)"
   ]
  },
  {
   "cell_type": "markdown",
   "id": "4128c4d0-a087-4eaa-8287-5e7a2d0d9aa8",
   "metadata": {},
   "source": [
    "## Part 1: Load the dataset\n",
    "\n",
    "We will play with the following dataset from kaggle (https://www.kaggle.com/code/saijeevanbattiprolu/logistic-regression-on-diabetes/notebook). The feature matrix has the following predictors:\n",
    "\n",
    "- Pregnancies: Number of times pregnant\n",
    "- Glucose: Plasma glucose concentration a 2 hours in an oral glucose tolerance test\n",
    "- BloodPressure: Diastolic blood pressure (mm Hg)\n",
    "- SkinThickness: Triceps skin fold thickness (mm)\n",
    "- Insulin: 2-Hour serum insulin (mu U/ml)\n",
    "- BMI: Body mass index (weight in kg/(height in m)^2)\n",
    "- DiabetesPedigreeFunction: Diabetes pedigree function\n",
    "- Age: Age (years)\n",
    "- Outcome: Class variable (1 for diabetic, 0 for healthy)\n",
    "\n",
    "Please feel free to experiment with your own dataset for binary classification."
   ]
  },
  {
   "cell_type": "code",
   "execution_count": 20,
   "id": "d3b08ffe-208f-45b0-b4e9-b044d6e7460f",
   "metadata": {},
   "outputs": [
    {
     "data": {
      "text/html": [
       "<div>\n",
       "<style scoped>\n",
       "    .dataframe tbody tr th:only-of-type {\n",
       "        vertical-align: middle;\n",
       "    }\n",
       "\n",
       "    .dataframe tbody tr th {\n",
       "        vertical-align: top;\n",
       "    }\n",
       "\n",
       "    .dataframe thead th {\n",
       "        text-align: right;\n",
       "    }\n",
       "</style>\n",
       "<table border=\"1\" class=\"dataframe\">\n",
       "  <thead>\n",
       "    <tr style=\"text-align: right;\">\n",
       "      <th></th>\n",
       "      <th>Pregnancies</th>\n",
       "      <th>Glucose</th>\n",
       "      <th>BloodPressure</th>\n",
       "      <th>SkinThickness</th>\n",
       "      <th>Insulin</th>\n",
       "      <th>BMI</th>\n",
       "      <th>DiabetesPedigreeFunction</th>\n",
       "      <th>Age</th>\n",
       "      <th>Outcome</th>\n",
       "    </tr>\n",
       "  </thead>\n",
       "  <tbody>\n",
       "    <tr>\n",
       "      <th>0</th>\n",
       "      <td>6</td>\n",
       "      <td>148</td>\n",
       "      <td>72</td>\n",
       "      <td>35</td>\n",
       "      <td>0</td>\n",
       "      <td>33.6</td>\n",
       "      <td>0.627</td>\n",
       "      <td>50</td>\n",
       "      <td>1</td>\n",
       "    </tr>\n",
       "    <tr>\n",
       "      <th>1</th>\n",
       "      <td>1</td>\n",
       "      <td>85</td>\n",
       "      <td>66</td>\n",
       "      <td>29</td>\n",
       "      <td>0</td>\n",
       "      <td>26.6</td>\n",
       "      <td>0.351</td>\n",
       "      <td>31</td>\n",
       "      <td>0</td>\n",
       "    </tr>\n",
       "    <tr>\n",
       "      <th>2</th>\n",
       "      <td>8</td>\n",
       "      <td>183</td>\n",
       "      <td>64</td>\n",
       "      <td>0</td>\n",
       "      <td>0</td>\n",
       "      <td>23.3</td>\n",
       "      <td>0.672</td>\n",
       "      <td>32</td>\n",
       "      <td>1</td>\n",
       "    </tr>\n",
       "    <tr>\n",
       "      <th>3</th>\n",
       "      <td>1</td>\n",
       "      <td>89</td>\n",
       "      <td>66</td>\n",
       "      <td>23</td>\n",
       "      <td>94</td>\n",
       "      <td>28.1</td>\n",
       "      <td>0.167</td>\n",
       "      <td>21</td>\n",
       "      <td>0</td>\n",
       "    </tr>\n",
       "    <tr>\n",
       "      <th>4</th>\n",
       "      <td>0</td>\n",
       "      <td>137</td>\n",
       "      <td>40</td>\n",
       "      <td>35</td>\n",
       "      <td>168</td>\n",
       "      <td>43.1</td>\n",
       "      <td>2.288</td>\n",
       "      <td>33</td>\n",
       "      <td>1</td>\n",
       "    </tr>\n",
       "  </tbody>\n",
       "</table>\n",
       "</div>"
      ],
      "text/plain": [
       "   Pregnancies  Glucose  BloodPressure  SkinThickness  Insulin   BMI  \\\n",
       "0            6      148             72             35        0  33.6   \n",
       "1            1       85             66             29        0  26.6   \n",
       "2            8      183             64              0        0  23.3   \n",
       "3            1       89             66             23       94  28.1   \n",
       "4            0      137             40             35      168  43.1   \n",
       "\n",
       "   DiabetesPedigreeFunction  Age  Outcome  \n",
       "0                     0.627   50        1  \n",
       "1                     0.351   31        0  \n",
       "2                     0.672   32        1  \n",
       "3                     0.167   21        0  \n",
       "4                     2.288   33        1  "
      ]
     },
     "execution_count": 20,
     "metadata": {},
     "output_type": "execute_result"
    }
   ],
   "source": [
    "data = pd.read_csv(\"diabetes.csv\")\n",
    "data.head(5)"
   ]
  },
  {
   "cell_type": "markdown",
   "id": "e770f3cd-68c2-4a2e-9d13-5cf8dfb1bed7",
   "metadata": {},
   "source": [
    "For simplicity's sake and reproducibility, we will use a built-in function in scikit-learn to split our dataset into train and validation sets:"
   ]
  },
  {
   "cell_type": "code",
   "execution_count": 22,
   "id": "449f6e8e-8218-4af5-bc04-e5241f410884",
   "metadata": {},
   "outputs": [],
   "source": [
    "X = data.drop('Outcome', axis=1)\n",
    "y = data['Outcome']\n",
    "\n",
    "X_train, X_val, y_train, y_test = train_test_split(X,y, test_size=0.2, random_state=42)"
   ]
  },
  {
   "cell_type": "markdown",
   "id": "a917832f-7b9e-4100-9a48-5602eebee316",
   "metadata": {},
   "source": [
    "Let's code our simple logistic regression from scratch (sigmoid, and gradient descent)."
   ]
  },
  {
   "cell_type": "code",
   "execution_count": 23,
   "id": "19e6a31a-bc3f-45ab-a255-452f114a0834",
   "metadata": {},
   "outputs": [],
   "source": [
    "def sigmoid(z):\n",
    "    # return 1.0 / (1.0 + np.exp(-z))\n",
    "    return expit(z)    \n",
    "#\n",
    "m, d = X_train.shape\n",
    "w = np.zeros(d)\n",
    "b = 0.0\n",
    "lr = 0.1\n",
    "n_iter = 2000\n",
    "\n",
    "for _ in range(n_iter):\n",
    "    # compute z\n",
    "    z = X_train @ w + b\n",
    "    # compute probabilities P(y=1|x)\n",
    "    a = sigmoid(z)                                \n",
    "    # compute gradients\n",
    "    dw = (X_train.T @ (a - y_train)) / m          \n",
    "    db = np.sum(a - y_train) / m\n",
    "    # adjust weights and b\n",
    "    w -= lr * dw\n",
    "    b -= lr * db\n",
    "# P(y=1|x) on validation set\n",
    "y_prob = sigmoid(X_val @ w + b)                   "
   ]
  },
  {
   "cell_type": "code",
   "execution_count": 24,
   "id": "c77a0f5f-9aba-4f76-b06e-01b94827591d",
   "metadata": {},
   "outputs": [
    {
     "data": {
      "text/plain": [
       "355    0.0\n",
       "534    0.0\n",
       "344    0.0\n",
       "296    0.0\n",
       "462    0.0\n",
       "dtype: float64"
      ]
     },
     "execution_count": 24,
     "metadata": {},
     "output_type": "execute_result"
    }
   ],
   "source": [
    "y_prob.tail(5)"
   ]
  },
  {
   "cell_type": "code",
   "execution_count": 26,
   "id": "4b88bcf6-b959-44b3-aa17-e23455d8bfa8",
   "metadata": {},
   "outputs": [
    {
     "name": "stdout",
     "output_type": "stream",
     "text": [
      "668    0\n",
      "324    0\n",
      "624    0\n",
      "690    0\n",
      "473    0\n",
      "      ..\n",
      "355    0\n",
      "534    0\n",
      "344    0\n",
      "296    0\n",
      "462    0\n",
      "Length: 154, dtype: int64\n",
      "Validation accuracy: 0.649  (correct: 100/154)\n"
     ]
    }
   ],
   "source": [
    "# Convert probabilities to predicted labels with a 0.5 threshold\n",
    "y_pred = (y_prob >= 0.5).astype(int)\n",
    "print(y_pred)\n",
    "# Accuracy = (# correct predictions) / m\n",
    "m_val = y_test.shape[0]\n",
    "correct = int(np.sum(y_pred == y_test))\n",
    "accuracy = correct / m_val\n",
    "\n",
    "print(f\"Validation accuracy: {accuracy:.3f}  (correct: {correct}/{m_val})\")"
   ]
  },
  {
   "cell_type": "markdown",
   "id": "eeb3f0be-1948-4744-9a6c-4181bf8adaac",
   "metadata": {},
   "source": [
    "## Part 2: Tune the learning rate"
   ]
  },
  {
   "cell_type": "code",
   "execution_count": 27,
   "id": "c2bdb38e-98aa-4b67-9baf-cf6a862fbedc",
   "metadata": {},
   "outputs": [
    {
     "name": "stdout",
     "output_type": "stream",
     "text": [
      "[1.00000000e-04 3.16227766e-04 1.00000000e-03 3.16227766e-03\n",
      " 1.00000000e-02 3.16227766e-02 1.00000000e-01 3.16227766e-01\n",
      " 1.00000000e+00]\n",
      "Current lr≈ 0.0001\n",
      "Current lr≈ 0.000316\n",
      "Current lr≈ 0.001\n",
      "Current lr≈ 0.00316\n",
      "Current lr≈ 0.01\n",
      "Current lr≈ 0.0316\n",
      "Current lr≈ 0.1\n",
      "Current lr≈ 0.316\n",
      "Current lr≈ 1\n"
     ]
    }
   ],
   "source": [
    "# generate a set of numbers from 1e-4 to 1.0\n",
    "lr_space = np.logspace(-4, 0, 9)   \n",
    "print(lr_space)\n",
    "accs = []\n",
    "for lr in lr_space:\n",
    "    print (f\"Current lr≈ {lr:.3g}\")\n",
    "    m, d = X_train.shape\n",
    "    w = np.zeros(d)\n",
    "    b = 0.0\n",
    "    n_iter = 2000\n",
    "    for _ in range(n_iter):\n",
    "        # compute z\n",
    "        z = X_train @ w + b\n",
    "        # compute probabilities \n",
    "        a = sigmoid(z)                                \n",
    "        # compute gradients\n",
    "        dw = (X_train.T @ (a - y_train)) / m          \n",
    "        db = np.sum(a - y_train) / m\n",
    "        # update weights and intercept\n",
    "        w -= lr * dw\n",
    "        b -= lr * db\n",
    "    # testing process using validation set\n",
    "    # compute zigmoid for probabilities\n",
    "    prob = sigmoid(X_val @ w + b)\n",
    "    # compute predictions from probabilities\n",
    "    pred = (prob >= 0.5).astype(int)\n",
    "    # compute accuracy and append\n",
    "    m_val = y_test.shape[0]\n",
    "    correct = int(np.sum(pred == y_test))\n",
    "    accuracy = correct / m_val\n",
    "    accs.append(accuracy)"
   ]
  },
  {
   "cell_type": "code",
   "execution_count": 28,
   "id": "6bfffc8d-af2a-47fd-a245-b4965ca88f63",
   "metadata": {},
   "outputs": [
    {
     "name": "stdout",
     "output_type": "stream",
     "text": [
      "Best learning rate ≈ 0.0316 with validation accuracy 0.714\n"
     ]
    }
   ],
   "source": [
    "# find the best accuracy\n",
    "best_idx = int(np.argmax(accs))\n",
    "best_lr = lr_space[best_idx]\n",
    "best_acc = float(accs[best_idx])\n",
    "print(f\"Best learning rate ≈ {best_lr:.3g} with validation accuracy {best_acc:.3f}\")"
   ]
  },
  {
   "cell_type": "code",
   "execution_count": 29,
   "id": "bcc7faa5-7798-40c8-8d8f-09cc0be252ff",
   "metadata": {},
   "outputs": [
    {
     "data": {
      "image/png": "[encoded data removed]",
      "text/plain": [
       "<Figure size 640x480 with 1 Axes>"
      ]
     },
     "metadata": {},
     "output_type": "display_data"
    }
   ],
   "source": [
    "plt.figure()\n",
    "plt.semilogx(lr_space, accs, marker=\"o\")\n",
    "plt.xlabel(\"Learning rate (lr)\")\n",
    "plt.ylabel(\"Validation accuracy\")\n",
    "plt.title(\"Hyperparameter tuning: lr vs accuracy\")\n",
    "plt.show()"
   ]
  },
  {
   "cell_type": "markdown",
   "id": "f8f5637b-e802-4bc9-8d8d-9a48ce2a03d4",
   "metadata": {},
   "source": [
    "## Part 3: Tune the number of iterations (k)\n",
    "\n",
    "We can repeat the exercise, but now fixing the lr to 0.0316 and sweeping number of iteration candidates."
   ]
  },
  {
   "cell_type": "code",
   "execution_count": 30,
   "id": "cfaac9d5-2971-42d5-bb91-ce075e46c7f9",
   "metadata": {},
   "outputs": [
    {
     "name": "stdout",
     "output_type": "stream",
     "text": [
      "[200, 500, 1000, 2000, 5000]\n",
      "Current number of iterations≈ 200\n",
      "Current number of iterations≈ 500\n",
      "Current number of iterations≈ 1e+03\n",
      "Current number of iterations≈ 2e+03\n",
      "Current number of iterations≈ 5e+03\n"
     ]
    }
   ],
   "source": [
    "n_iter_space = [200, 500, 1000, 2000, 5000 ]\n",
    "print(n_iter_space)\n",
    "accs2 = []\n",
    "\n",
    "for n_iter in n_iter_space:\n",
    "    print (f\"Current number of iterations≈ {n_iter:.3g}\")\n",
    "    m, d = X_train.shape\n",
    "    w = np.zeros(d)\n",
    "    b = 0.0\n",
    "    lr = 0.0316\n",
    "    for _ in range(n_iter):\n",
    "        # compute z\n",
    "        z = X_train @ w + b\n",
    "        # compute probabilities\n",
    "        a = sigmoid(z)                                # probabilities P(y=1|x)\n",
    "        # Compute gradients\n",
    "        dw = (X_train.T @ (a - y_train)) / m          # <-- no + lam * w / m\n",
    "        db = np.sum(a - y_train) / m\n",
    "        # update weights and intercept with current lr\n",
    "        w -= lr * dw\n",
    "        b -= lr * db\n",
    "    \n",
    "    prob = sigmoid(X_val @ w + b)\n",
    "    pred = (prob >= 0.5).astype(int)\n",
    "    m_val = y_test.shape[0]\n",
    "    correct = int(np.sum(pred == y_test))\n",
    "    accuracy = correct / m_val\n",
    "    accs2.append(accuracy)"
   ]
  },
  {
   "cell_type": "code",
   "execution_count": 31,
   "id": "9577f035-62b8-4f06-9e43-b537ff934fc7",
   "metadata": {},
   "outputs": [
    {
     "name": "stdout",
     "output_type": "stream",
     "text": [
      "Best number of iterations ≈ 1e+03 with validation accuracy 0.701\n"
     ]
    }
   ],
   "source": [
    "#find the best accuracy for the number of iterations\n",
    "best_idx = int(np.argmax(accs2))\n",
    "best_n_iter = n_iter_space[best_idx]\n",
    "best_acc2 = float(accs2[best_idx])\n",
    "print(f\"Best number of iterations ≈ {best_n_iter:.3g} with validation accuracy {best_acc2:.3f}\")"
   ]
  },
  {
   "cell_type": "code",
   "execution_count": 32,
   "id": "b247d6d1-c898-4b00-ab57-b88c7b0b7144",
   "metadata": {},
   "outputs": [
    {
     "data": {
      "image/png": "[encoded data removed]",
      "text/plain": [
       "<Figure size 640x480 with 1 Axes>"
      ]
     },
     "metadata": {},
     "output_type": "display_data"
    }
   ],
   "source": [
    "plt.figure()\n",
    "plt.semilogx(n_iter_space, accs2, marker=\"o\")\n",
    "plt.xlabel(\"k (number of iterations)\")\n",
    "plt.ylabel(\"Validation accuracy\")\n",
    "plt.title(\"Hyperparameter tuning: k vs accuracy\")\n",
    "plt.show()"
   ]
  },
  {
   "cell_type": "markdown",
   "id": "fc7d53b4-7c08-4591-a4e4-cfa0c9521330",
   "metadata": {},
   "source": [
    "## Part 4: Homework\n",
    "\n",
    "1. Using the built-in logistic regression in sci-kit, list the hyperparameter you can tune.\n",
    "2. Code the hyperparameter tunning."
   ]
  }
 ],
 "metadata": {
  "kernelspec": {
   "display_name": "Python 3 (ipykernel)",
   "language": "python",
   "name": "python3"
  },
  "language_info": {
   "codemirror_mode": {
    "name": "ipython",
    "version": 3
   },
   "file_extension": ".py",
   "mimetype": "text/x-python",
   "name": "python",
   "nbconvert_exporter": "python",
   "pygments_lexer": "ipython3",
   "version": "3.13.5"
  }
 },
 "nbformat": 4,
 "nbformat_minor": 5
}
